{
  "cells": [
    {
      "cell_type": "code",
      "execution_count": 29,
      "metadata": {
        "id": "Py6yWkBuhU4Q"
      },
      "outputs": [],
      "source": [
        "import numpy as np\n",
        "import tensorflow as tf"
      ]
    },
    {
      "cell_type": "markdown",
      "metadata": {
        "id": "rGiLrcwFh8Yl"
      },
      "source": [
        "# normalization"
      ]
    },
    {
      "cell_type": "code",
      "execution_count": 31,
      "metadata": {
        "colab": {
          "base_uri": "https://localhost:8080/"
        },
        "id": "n3DO5NediyzY",
        "outputId": "5f644f69-0889-4939-ccb8-06f349144c3b"
      },
      "outputs": [
        {
          "name": "stdout",
          "output_type": "stream",
          "text": [
            "temp:  min:  151.32 max:  284.99\n",
            "duration :  min:  11.51 max:  15.45\n",
            "temp:  min:  -1.6853086 max:  1.659659\n",
            "duration :  min:  -1.7021064 max:  1.7897582\n"
          ]
        }
      ],
      "source": [
        "# before normalization\n",
        "print('temp: ', 'min: ', np.min(x[:, 0]), 'max: ', np.max(x[:,0]))\n",
        "print('duration : ', 'min: ', np.min(x[:, 1]), 'max: ', np.max(x[:,1]))\n",
        "\n",
        "# normalization\n",
        "norm_l = tf.keras.layers.Normalization(axis=-1)\n",
        "norm_l.adapt(x)\n",
        "xn = norm_l(x)\n",
        "\n",
        "# after normalization\n",
        "print('temp: ', 'min: ', np.min(xn[:, 0]), 'max: ', np.max(xn[:,0]))\n",
        "print('duration : ', 'min: ', np.min(xn[:, 1]), 'max: ', np.max(xn[:,1]))"
      ]
    },
    {
      "cell_type": "markdown",
      "metadata": {
        "id": "jaouQyw4kJtT"
      },
      "source": [
        "# model"
      ]
    },
    {
      "cell_type": "code",
      "execution_count": 32,
      "metadata": {
        "id": "yKCa783DkJOj"
      },
      "outputs": [],
      "source": [
        "# activation function\n",
        "def sigmoid(z):\n",
        "  z = np.clip(z, -500, 500) # protect against overflow\n",
        "  g = 1.0 / (1.0 + np.exp(-z))\n",
        "  return g"
      ]
    },
    {
      "cell_type": "code",
      "execution_count": 33,
      "metadata": {
        "id": "jNW4XF7SleFU"
      },
      "outputs": [],
      "source": [
        "# model layers\n",
        "def dense(a_in, w, b):\n",
        "  # units\n",
        "  units = w.shape[1] # number of cols\n",
        "  # output\n",
        "  a_out = np.zeros(units) # same shape as units\n",
        "\n",
        "  for j in range(units):\n",
        "    wj = w[:, j] # one col of w\n",
        "    z = np.dot(wj, a_in) + b[j] # calculate z\n",
        "    a_out[j] = sigmoid(z) # apply sigmoid\n",
        "  return (a_out)"
      ]
    },
    {
      "cell_type": "code",
      "execution_count": 34,
      "metadata": {
        "id": "F02CQra9nM2j"
      },
      "outputs": [],
      "source": [
        "# model\n",
        "def sequential(x, w1, b1, w2, b2):\n",
        "  a1 = dense(x, w1, b1)\n",
        "  a2 = dense(a1, w2, b2)\n",
        "  return (a2)"
      ]
    },
    {
      "cell_type": "code",
      "execution_count": 35,
      "metadata": {
        "id": "Fdf7bkeVobwV"
      },
      "outputs": [],
      "source": [
        "w1_tmp = np.array( [[-8.93,  0.29, 12.9 ], [-0.1,  -7.32, 10.81]] )\n",
        "b1_tmp = np.array( [-9.82, -9.28,  0.96] )\n",
        "w2_tmp = np.array( [[-31.18], [-27.59], [-32.56]] )\n",
        "b2_tmp = np.array( [15.41] )"
      ]
    },
    {
      "cell_type": "markdown",
      "metadata": {
        "id": "B62CNKfQofqt"
      },
      "source": [
        "# predictions"
      ]
    },
    {
      "cell_type": "code",
      "execution_count": 36,
      "metadata": {
        "id": "cSpwqN0Voi3i"
      },
      "outputs": [],
      "source": [
        "def predict(x, w1, b1, w2, b2):\n",
        "  m = x.shape[0] # number of rows/samples\n",
        "  p = np.zeros((m,1)) # zeros array to store predictions\n",
        "  for i in range(m):\n",
        "    p[i,0] = sequential(x[i], w1, b1, w2, b2)\n",
        "  return (p)"
      ]
    },
    {
      "cell_type": "code",
      "execution_count": 37,
      "metadata": {
        "colab": {
          "base_uri": "https://localhost:8080/"
        },
        "id": "T9tX60dCprtM",
        "outputId": "89a95e9a-0657-4076-bb96-8d16d918ace9"
      },
      "outputs": [
        {
          "name": "stderr",
          "output_type": "stream",
          "text": [
            "/tmp/ipython-input-4245855571.py:5: DeprecationWarning: Conversion of an array with ndim > 0 to a scalar is deprecated, and will error in future. Ensure you extract a single element from your array before performing this operation. (Deprecated NumPy 1.25.)\n",
            "  p[i,0] = sequential(x[i], w1, b1, w2, b2)\n"
          ]
        }
      ],
      "source": [
        "x_test = np.array([[200,13.9],\n",
        "                  [200,17]])\n",
        "# normalize x_test\n",
        "x_test_n = norm_l(x_test)\n",
        "\n",
        "# make prediction\n",
        "prediction = predict(x_test_n, w1_tmp, b1_tmp, w2_tmp, b2_tmp)"
      ]
    },
    {
      "cell_type": "code",
      "execution_count": 38,
      "metadata": {
        "colab": {
          "base_uri": "https://localhost:8080/"
        },
        "id": "e_2IvfQTrMxc",
        "outputId": "9e45d7db-30a5-4ae9-ddf3-8c3ade168a4b"
      },
      "outputs": [
        {
          "name": "stdout",
          "output_type": "stream",
          "text": [
            "[[9.71579948e-01]\n",
            " [3.28981203e-08]]\n"
          ]
        }
      ],
      "source": [
        "print(prediction)"
      ]
    },
    {
      "cell_type": "markdown",
      "metadata": {
        "id": "GPyU6ERRrTik"
      },
      "source": [
        "# convert to decision"
      ]
    },
    {
      "cell_type": "code",
      "execution_count": 39,
      "metadata": {
        "colab": {
          "base_uri": "https://localhost:8080/"
        },
        "id": "Qotg2kTZrZd_",
        "outputId": "4144be88-869b-4bcf-80b0-9a76670b7bb1"
      },
      "outputs": [
        {
          "name": "stdout",
          "output_type": "stream",
          "text": [
            "[[1.]\n",
            " [0.]]\n"
          ]
        }
      ],
      "source": [
        "yhat = np.zeros_like(prediction) # zeros array to store decsion\n",
        "for i in range(len(prediction)):\n",
        "  if prediction[i] >= 0.5:\n",
        "    yhat[i] = 1\n",
        "  else:\n",
        "    yhat[i] = 0\n",
        "# print decisions\n",
        "print(yhat)"
      ]
    }
  ],
  "metadata": {
    "colab": {
      "collapsed_sections": [
        "7TjVxjVqh3tB"
      ],
      "provenance": []
    },
    "kernelspec": {
      "display_name": "Python 3",
      "name": "python3"
    },
    "language_info": {
      "name": "python"
    }
  },
  "nbformat": 4,
  "nbformat_minor": 0
}
