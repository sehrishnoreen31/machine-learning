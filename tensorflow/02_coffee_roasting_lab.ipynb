{
  "cells": [
    {
      "cell_type": "code",
      "execution_count": 2,
      "metadata": {
        "id": "Fnq3YgZ5Q5EW"
      },
      "outputs": [],
      "source": [
        "import numpy as np\n",
        "import tensorflow as tf\n",
        "from tensorflow.keras.models import Sequential\n",
        "from tensorflow.keras.layers import Dense"
      ]
    },
    {
      "cell_type": "markdown",
      "metadata": {
        "id": "DNn7tRf3RGVT"
      },
      "source": [
        "# Data: x, y"
      ]
    },
    {
      "cell_type": "code",
      "execution_count": 6,
      "metadata": {
        "id": "ZmjWTorRNQce"
      },
      "outputs": [],
      "source": [
        "# data\n",
        "x = np.array([[185.32,  12.69],\n",
        " [259.92,  11.87],\n",
        " [231.01,  14.41],\n",
        " [175.37,  11.72],\n",
        " [187.12,  14.13],\n",
        " [225.91,  12.1 ],\n",
        " [208.41,  14.18],\n",
        " [207.08,  14.03],\n",
        " [280.6 ,  14.23],\n",
        " [202.87,  12.25],\n",
        " [196.7 ,  13.54],\n",
        " [270.31,  14.6 ],\n",
        " [192.95,  15.2 ],\n",
        " [213.57,  14.28],\n",
        " [164.47,  11.92],\n",
        " [177.26,  15.04],\n",
        " [241.77,  14.9 ],\n",
        " [237.  ,  13.13],\n",
        " [219.74,  13.87],\n",
        " [266.39,  13.25],\n",
        " [270.45,  13.95],\n",
        " [261.96,  13.49],\n",
        " [243.49,  12.86],\n",
        " [220.58,  12.36],\n",
        " [163.59,  11.65],\n",
        " [244.76,  13.33],\n",
        " [271.19,  14.84],\n",
        " [201.99,  15.39],\n",
        " [229.93,  14.56],\n",
        " [204.97,  12.28],\n",
        " [173.19,  12.22],\n",
        " [231.51,  11.95],\n",
        " [152.69,  14.83],\n",
        " [163.42,  13.3 ],\n",
        " [215.95,  13.98],\n",
        " [218.04,  15.25],\n",
        " [251.3 ,  13.8 ],\n",
        " [233.33,  13.53],\n",
        " [280.24,  12.41],\n",
        " [243.02,  13.72],\n",
        " [155.67,  12.68],\n",
        " [275.17,  14.64],\n",
        " [151.73,  12.69],\n",
        " [151.32,  14.81],\n",
        " [164.9 ,  11.73],\n",
        " [282.55,  13.28],\n",
        " [192.98,  11.7 ],\n",
        " [202.6 ,  12.96],\n",
        " [220.67,  11.53],\n",
        " [169.97,  12.34],\n",
        " [209.47,  12.71],\n",
        " [232.8 ,  12.64],\n",
        " [272.8 ,  15.35],\n",
        " [158.02,  12.34],\n",
        " [226.01,  14.58],\n",
        " [158.64,  12.24],\n",
        " [211.66,  14.17],\n",
        " [271.95,  14.97],\n",
        " [257.16,  11.71],\n",
        " [281.85,  13.96],\n",
        " [161.63,  12.52],\n",
        " [233.8 ,  13.04],\n",
        " [210.29,  14.72],\n",
        " [261.24,  13.69],\n",
        " [256.98,  13.12],\n",
        " [281.56,  13.92],\n",
        " [280.64,  11.68],\n",
        " [269.16,  13.74],\n",
        " [246.34,  12.27],\n",
        " [224.07,  12.66],\n",
        " [164.24,  11.51],\n",
        " [272.42,  14.18],\n",
        " [177.68,  12.53],\n",
        " [212.86,  14.77],\n",
        " [165.88,  15.37],\n",
        " [277.43,  12.48],\n",
        " [236.51,  12.94],\n",
        " [244.14,  11.85],\n",
        " [213.45,  13.85],\n",
        " [234.57,  14.27],\n",
        " [270.34,  12.47],\n",
        " [170.68,  13.06],\n",
        " [226.79,  15.34],\n",
        " [245.92,  14.45],\n",
        " [281.32,  12.57],\n",
        " [185.03,  13.19],\n",
        " [189.88,  14.1 ],\n",
        " [278.48,  12.11],\n",
        " [219.92,  14.21],\n",
        " [216.58,  15.15],\n",
        " [249.48,  15.03],\n",
        " [165.09,  12.28],\n",
        " [158.87,  14.82],\n",
        " [279.98,  11.56],\n",
        " [256.55,  14.41],\n",
        " [272.61,  12.58],\n",
        " [246.49,  12.45],\n",
        " [160.26,  14.48],\n",
        " [155.7 ,  14.3 ],\n",
        " [188.27,  13.45],\n",
        " [270.36,  12.47],\n",
        " [213.22,  12.92],\n",
        " [175.7 ,  13.39],\n",
        " [174.52,  14.7 ],\n",
        " [233.  ,  12.63],\n",
        " [281.37,  12.88],\n",
        " [240.62,  14.43],\n",
        " [185.81,  11.55],\n",
        " [270.5 ,  15.33],\n",
        " [172.98,  12.11],\n",
        " [208.41,  13.89],\n",
        " [283.51,  15.35],\n",
        " [283.36,  12.48],\n",
        " [230.85,  13.24],\n",
        " [181.24,  11.76],\n",
        " [172.78,  12.93],\n",
        " [161.88,  12.1 ],\n",
        " [156.03,  13.99],\n",
        " [216.52,  12.47],\n",
        " [221.06,  13.2 ],\n",
        " [238.99,  15.23],\n",
        " [197.69,  14.08],\n",
        " [179.55,  15.26],\n",
        " [233.39,  12.13],\n",
        " [184.7 ,  12.14],\n",
        " [174.18,  12.73],\n",
        " [261.11,  13.33],\n",
        " [187.42,  13.18],\n",
        " [186.1 ,  14.43],\n",
        " [157.94,  12.66],\n",
        " [193.64,  12.23],\n",
        " [249.65,  12.22],\n",
        " [190.56,  11.73],\n",
        " [252.  ,  12.96],\n",
        " [238.55,  12.37],\n",
        " [152.94,  12.79],\n",
        " [255.17,  14.85],\n",
        " [197.09,  14.89],\n",
        " [156.8 ,  13.59],\n",
        " [184.75,  13.26],\n",
        " [179.92,  15.07],\n",
        " [190.79,  15.28],\n",
        " [164.73,  13.22],\n",
        " [209.87,  14.34],\n",
        " [196.58,  13.47],\n",
        " [159.51,  12.74],\n",
        " [247.87,  11.92],\n",
        " [212.44,  12.45],\n",
        " [172.34,  11.99],\n",
        " [259.87,  14.25],\n",
        " [201.23,  13.07],\n",
        " [248.34,  13.92],\n",
        " [273.66,  15.18],\n",
        " [215.09,  14.14],\n",
        " [223.53,  12.74],\n",
        " [211.22,  14.38],\n",
        " [224.61,  14.03],\n",
        " [215.75,  15.31],\n",
        " [254.82,  12.02],\n",
        " [259.9 ,  15.17],\n",
        " [260.25,  12.87],\n",
        " [199.67,  12.47],\n",
        " [157.52,  13.39],\n",
        " [264.81,  14.58],\n",
        " [239.4 ,  14.89],\n",
        " [238.98,  12.39],\n",
        " [258.43,  12.97],\n",
        " [270.16,  12.81],\n",
        " [162.41,  14.42],\n",
        " [164.53,  14.98],\n",
        " [205.61,  14.62],\n",
        " [157.1 ,  13.68],\n",
        " [241.38,  12.02],\n",
        " [232.13,  12.07],\n",
        " [191.04,  12.96],\n",
        " [233.64,  12.02],\n",
        " [174.95,  14.63],\n",
        " [246.64,  13.32],\n",
        " [188.07,  14.27],\n",
        " [213.16,  12.75],\n",
        " [268.08,  12.31],\n",
        " [258.58,  13.97],\n",
        " [237.21,  14.23],\n",
        " [251.02,  15.02],\n",
        " [274.28,  12.52],\n",
        " [172.12,  15.09],\n",
        " [177.52,  12.39],\n",
        " [258.71,  15.36],\n",
        " [264.01,  13.57],\n",
        " [200.71,  15.45],\n",
        " [249.37,  14.02],\n",
        " [151.5 ,  12.28],\n",
        " [151.82,  15.13],\n",
        " [181.92,  12.18],\n",
        " [228.65,  12.31],\n",
        " [223.78,  15.3 ],\n",
        " [266.63,  12.48],\n",
        " [273.68,  13.1 ],\n",
        " [220.61,  12.8 ],\n",
        " [284.99,  12.73]])\n",
        "\n",
        "y = np.array([[1.],\n",
        " [0.],\n",
        " [0.],\n",
        " [0.],\n",
        " [1.],\n",
        " [1.],\n",
        " [0.],\n",
        " [0.],\n",
        " [0.],\n",
        " [1.],\n",
        " [1.],\n",
        " [0.],\n",
        " [0.],\n",
        " [0.],\n",
        " [0.],\n",
        " [0.],\n",
        " [0.],\n",
        " [0.],\n",
        " [0.],\n",
        " [0.],\n",
        " [0.],\n",
        " [0.],\n",
        " [0.],\n",
        " [1.],\n",
        " [0.],\n",
        " [0.],\n",
        " [0.],\n",
        " [0.],\n",
        " [0.],\n",
        " [1.],\n",
        " [0.],\n",
        " [0.],\n",
        " [0.],\n",
        " [0.],\n",
        " [0.],\n",
        " [0.],\n",
        " [0.],\n",
        " [0.],\n",
        " [0.],\n",
        " [0.],\n",
        " [0.],\n",
        " [0.],\n",
        " [0.],\n",
        " [0.],\n",
        " [0.],\n",
        " [0.],\n",
        " [0.],\n",
        " [1.],\n",
        " [0.],\n",
        " [0.],\n",
        " [1.],\n",
        " [1.],\n",
        " [0.],\n",
        " [0.],\n",
        " [0.],\n",
        " [0.],\n",
        " [0.],\n",
        " [0.],\n",
        " [0.],\n",
        " [0.],\n",
        " [0.],\n",
        " [0.],\n",
        " [0.],\n",
        " [0.],\n",
        " [0.],\n",
        " [0.],\n",
        " [0.],\n",
        " [0.],\n",
        " [1.],\n",
        " [1.],\n",
        " [0.],\n",
        " [0.],\n",
        " [1.],\n",
        " [0.],\n",
        " [0.],\n",
        " [0.],\n",
        " [0.],\n",
        " [0.],\n",
        " [0.],\n",
        " [0.],\n",
        " [0.],\n",
        " [0.],\n",
        " [0.],\n",
        " [0.],\n",
        " [0.],\n",
        " [1.],\n",
        " [1.],\n",
        " [0.],\n",
        " [0.],\n",
        " [0.],\n",
        " [0.],\n",
        " [0.],\n",
        " [0.],\n",
        " [0.],\n",
        " [0.],\n",
        " [0.],\n",
        " [0.],\n",
        " [0.],\n",
        " [0.],\n",
        " [1.],\n",
        " [0.],\n",
        " [1.],\n",
        " [1.],\n",
        " [0.],\n",
        " [1.],\n",
        " [0.],\n",
        " [0.],\n",
        " [0.],\n",
        " [0.],\n",
        " [0.],\n",
        " [0.],\n",
        " [0.],\n",
        " [0.],\n",
        " [0.],\n",
        " [0.],\n",
        " [0.],\n",
        " [0.],\n",
        " [0.],\n",
        " [1.],\n",
        " [1.],\n",
        " [0.],\n",
        " [0.],\n",
        " [0.],\n",
        " [1.],\n",
        " [1.],\n",
        " [0.],\n",
        " [0.],\n",
        " [1.],\n",
        " [0.],\n",
        " [0.],\n",
        " [1.],\n",
        " [0.],\n",
        " [0.],\n",
        " [0.],\n",
        " [1.],\n",
        " [0.],\n",
        " [0.],\n",
        " [0.],\n",
        " [0.],\n",
        " [1.],\n",
        " [0.],\n",
        " [0.],\n",
        " [0.],\n",
        " [0.],\n",
        " [1.],\n",
        " [0.],\n",
        " [0.],\n",
        " [1.],\n",
        " [0.],\n",
        " [0.],\n",
        " [1.],\n",
        " [0.],\n",
        " [0.],\n",
        " [0.],\n",
        " [1.],\n",
        " [0.],\n",
        " [0.],\n",
        " [0.],\n",
        " [0.],\n",
        " [0.],\n",
        " [0.],\n",
        " [1.],\n",
        " [0.],\n",
        " [0.],\n",
        " [0.],\n",
        " [1.],\n",
        " [0.],\n",
        " [0.],\n",
        " [0.],\n",
        " [0.],\n",
        " [0.],\n",
        " [0.],\n",
        " [1.],\n",
        " [1.],\n",
        " [1.],\n",
        " [1.],\n",
        " [0.],\n",
        " [0.],\n",
        " [1.],\n",
        " [1.],\n",
        " [0.],\n",
        " [0.],\n",
        " [0.],\n",
        " [0.],\n",
        " [0.],\n",
        " [0.],\n",
        " [1.],\n",
        " [0.],\n",
        " [0.],\n",
        " [0.],\n",
        " [0.],\n",
        " [0.],\n",
        " [0.],\n",
        " [1.],\n",
        " [1.],\n",
        " [0.],\n",
        " [0.],\n",
        " [0.],\n",
        " [1.],\n",
        " [0.]])"
      ]
    },
    {
      "cell_type": "markdown",
      "metadata": {
        "id": "KCiNkvZDSJgj"
      },
      "source": [
        "# normalization"
      ]
    },
    {
      "cell_type": "code",
      "execution_count": 18,
      "metadata": {
        "colab": {
          "base_uri": "https://localhost:8080/"
        },
        "id": "0DA5WFTFSGaR",
        "outputId": "d58fa06b-e490-4371-af41-043ccd55f6f0"
      },
      "outputs": [
        {
          "name": "stdout",
          "output_type": "stream",
          "text": [
            "Temp:  max:  284.99 min:  151.32\n",
            "Duration:  max:  15.45 min:  11.51\n"
          ]
        }
      ],
      "source": [
        "# before normalization\n",
        "print('Temp: ', 'max: ', np.max(x[:,0]), 'min: ',np.min(x[:,0])) # col 1\n",
        "print('Duration: ', 'max: ', np.max(x[:,1]), 'min: ',np.min(x[:,1])) # col 2"
      ]
    },
    {
      "cell_type": "code",
      "execution_count": 19,
      "metadata": {
        "id": "MQRK2_yxTjSh"
      },
      "outputs": [],
      "source": [
        "# normalization\n",
        "norm_l = tf.keras.layers.Normalization(axis=-1)\n",
        "norm_l.adapt(x)\n",
        "x_new = norm_l(x)"
      ]
    },
    {
      "cell_type": "code",
      "execution_count": 21,
      "metadata": {
        "colab": {
          "base_uri": "https://localhost:8080/"
        },
        "id": "_SZ9Dhz6U0pP",
        "outputId": "9fa9706d-2670-4892-ac7f-970bdf1070b4"
      },
      "outputs": [
        {
          "name": "stdout",
          "output_type": "stream",
          "text": [
            "Temp:  max:  1.659659 min:  -1.6853086\n",
            "Duration:  max:  1.7897582 min:  -1.7021064\n"
          ]
        }
      ],
      "source": [
        "# after normalization\n",
        "print('Temp: ', 'max: ', np.max(x_new[:,0]), 'min: ',np.min(x_new[:,0])) # col 1\n",
        "print('Duration: ', 'max: ', np.max(x_new[:,1]), 'min: ',np.min(x_new[:,1])) # col 2"
      ]
    },
    {
      "cell_type": "markdown",
      "metadata": {
        "id": "2lCQnVqWVpN8"
      },
      "source": [
        "Tile/copy our data to increase the training set size and reduce the number of training epochs."
      ]
    },
    {
      "cell_type": "code",
      "execution_count": 23,
      "metadata": {
        "id": "dDf8YhXLVvf8"
      },
      "outputs": [],
      "source": [
        "xt = np.tile(x_new, (1000, 1))\n",
        "yt = np.tile(y, (1000, 1))"
      ]
    },
    {
      "cell_type": "code",
      "execution_count": 24,
      "metadata": {
        "colab": {
          "base_uri": "https://localhost:8080/"
        },
        "id": "LtMRFMNcWDwE",
        "outputId": "fae1738a-4f90-45d6-8914-498576c93b33"
      },
      "outputs": [
        {
          "data": {
            "text/plain": [
              "(200000, 2)"
            ]
          },
          "execution_count": 24,
          "metadata": {},
          "output_type": "execute_result"
        }
      ],
      "source": [
        "xt.shape"
      ]
    },
    {
      "cell_type": "code",
      "execution_count": 25,
      "metadata": {
        "colab": {
          "base_uri": "https://localhost:8080/"
        },
        "id": "6G-RswnYWGj2",
        "outputId": "523d1abf-3005-4e57-9b12-fe7b9e54aa13"
      },
      "outputs": [
        {
          "data": {
            "text/plain": [
              "(200000, 1)"
            ]
          },
          "execution_count": 25,
          "metadata": {},
          "output_type": "execute_result"
        }
      ],
      "source": [
        "yt.shape"
      ]
    },
    {
      "cell_type": "markdown",
      "metadata": {
        "id": "CHiUi0snWKcQ"
      },
      "source": [
        "# model"
      ]
    },
    {
      "cell_type": "code",
      "execution_count": 64,
      "metadata": {
        "id": "10JF911kWMgv"
      },
      "outputs": [],
      "source": [
        "tf.random.set_seed(1342)\n",
        "model = Sequential([\n",
        "    tf.keras.Input(shape=(2,)),\n",
        "    Dense(units=5, activation='sigmoid', name='layer_1'),\n",
        "    Dense(units=1, activation='sigmoid', name='layer_2')\n",
        "])"
      ]
    },
    {
      "cell_type": "code",
      "execution_count": 65,
      "metadata": {
        "colab": {
          "base_uri": "https://localhost:8080/",
          "height": 204
        },
        "id": "PGz9rbQyXQNb",
        "outputId": "16b9cfb2-d837-4816-8d78-00f59c833c0b"
      },
      "outputs": [
        {
          "data": {
            "text/html": [
              "<pre style=\"white-space:pre;overflow-x:auto;line-height:normal;font-family:Menlo,'DejaVu Sans Mono',consolas,'Courier New',monospace\"><span style=\"font-weight: bold\">Model: \"sequential_6\"</span>\n",
              "</pre>\n"
            ],
            "text/plain": [
              "\u001b[1mModel: \"sequential_6\"\u001b[0m\n"
            ]
          },
          "metadata": {},
          "output_type": "display_data"
        },
        {
          "data": {
            "text/html": [
              "<pre style=\"white-space:pre;overflow-x:auto;line-height:normal;font-family:Menlo,'DejaVu Sans Mono',consolas,'Courier New',monospace\">┏━━━━━━━━━━━━━━━━━━━━━━━━━━━━━━━━━┳━━━━━━━━━━━━━━━━━━━━━━━━┳━━━━━━━━━━━━━━━┓\n",
              "┃<span style=\"font-weight: bold\"> Layer (type)                    </span>┃<span style=\"font-weight: bold\"> Output Shape           </span>┃<span style=\"font-weight: bold\">       Param # </span>┃\n",
              "┡━━━━━━━━━━━━━━━━━━━━━━━━━━━━━━━━━╇━━━━━━━━━━━━━━━━━━━━━━━━╇━━━━━━━━━━━━━━━┩\n",
              "│ layer_1 (<span style=\"color: #0087ff; text-decoration-color: #0087ff\">Dense</span>)                 │ (<span style=\"color: #00d7ff; text-decoration-color: #00d7ff\">None</span>, <span style=\"color: #00af00; text-decoration-color: #00af00\">5</span>)              │            <span style=\"color: #00af00; text-decoration-color: #00af00\">15</span> │\n",
              "├─────────────────────────────────┼────────────────────────┼───────────────┤\n",
              "│ layer_2 (<span style=\"color: #0087ff; text-decoration-color: #0087ff\">Dense</span>)                 │ (<span style=\"color: #00d7ff; text-decoration-color: #00d7ff\">None</span>, <span style=\"color: #00af00; text-decoration-color: #00af00\">1</span>)              │             <span style=\"color: #00af00; text-decoration-color: #00af00\">6</span> │\n",
              "└─────────────────────────────────┴────────────────────────┴───────────────┘\n",
              "</pre>\n"
            ],
            "text/plain": [
              "┏━━━━━━━━━━━━━━━━━━━━━━━━━━━━━━━━━┳━━━━━━━━━━━━━━━━━━━━━━━━┳━━━━━━━━━━━━━━━┓\n",
              "┃\u001b[1m \u001b[0m\u001b[1mLayer (type)                   \u001b[0m\u001b[1m \u001b[0m┃\u001b[1m \u001b[0m\u001b[1mOutput Shape          \u001b[0m\u001b[1m \u001b[0m┃\u001b[1m \u001b[0m\u001b[1m      Param #\u001b[0m\u001b[1m \u001b[0m┃\n",
              "┡━━━━━━━━━━━━━━━━━━━━━━━━━━━━━━━━━╇━━━━━━━━━━━━━━━━━━━━━━━━╇━━━━━━━━━━━━━━━┩\n",
              "│ layer_1 (\u001b[38;5;33mDense\u001b[0m)                 │ (\u001b[38;5;45mNone\u001b[0m, \u001b[38;5;34m5\u001b[0m)              │            \u001b[38;5;34m15\u001b[0m │\n",
              "├─────────────────────────────────┼────────────────────────┼───────────────┤\n",
              "│ layer_2 (\u001b[38;5;33mDense\u001b[0m)                 │ (\u001b[38;5;45mNone\u001b[0m, \u001b[38;5;34m1\u001b[0m)              │             \u001b[38;5;34m6\u001b[0m │\n",
              "└─────────────────────────────────┴────────────────────────┴───────────────┘\n"
            ]
          },
          "metadata": {},
          "output_type": "display_data"
        },
        {
          "data": {
            "text/html": [
              "<pre style=\"white-space:pre;overflow-x:auto;line-height:normal;font-family:Menlo,'DejaVu Sans Mono',consolas,'Courier New',monospace\"><span style=\"font-weight: bold\"> Total params: </span><span style=\"color: #00af00; text-decoration-color: #00af00\">21</span> (84.00 B)\n",
              "</pre>\n"
            ],
            "text/plain": [
              "\u001b[1m Total params: \u001b[0m\u001b[38;5;34m21\u001b[0m (84.00 B)\n"
            ]
          },
          "metadata": {},
          "output_type": "display_data"
        },
        {
          "data": {
            "text/html": [
              "<pre style=\"white-space:pre;overflow-x:auto;line-height:normal;font-family:Menlo,'DejaVu Sans Mono',consolas,'Courier New',monospace\"><span style=\"font-weight: bold\"> Trainable params: </span><span style=\"color: #00af00; text-decoration-color: #00af00\">21</span> (84.00 B)\n",
              "</pre>\n"
            ],
            "text/plain": [
              "\u001b[1m Trainable params: \u001b[0m\u001b[38;5;34m21\u001b[0m (84.00 B)\n"
            ]
          },
          "metadata": {},
          "output_type": "display_data"
        },
        {
          "data": {
            "text/html": [
              "<pre style=\"white-space:pre;overflow-x:auto;line-height:normal;font-family:Menlo,'DejaVu Sans Mono',consolas,'Courier New',monospace\"><span style=\"font-weight: bold\"> Non-trainable params: </span><span style=\"color: #00af00; text-decoration-color: #00af00\">0</span> (0.00 B)\n",
              "</pre>\n"
            ],
            "text/plain": [
              "\u001b[1m Non-trainable params: \u001b[0m\u001b[38;5;34m0\u001b[0m (0.00 B)\n"
            ]
          },
          "metadata": {},
          "output_type": "display_data"
        }
      ],
      "source": [
        "model.summary()"
      ]
    },
    {
      "cell_type": "markdown",
      "metadata": {
        "id": "4eSSR-qQcgxH"
      },
      "source": [
        "# Parameters calculation"
      ]
    },
    {
      "cell_type": "code",
      "execution_count": 66,
      "metadata": {
        "id": "5SJiITGSZrSy"
      },
      "outputs": [],
      "source": [
        "# Parameters=weight + biases\n",
        "# Parameters = (Input Units × Output Units) + Output Units\n",
        "\n",
        "# example\n",
        "\n",
        "# | Layer    | Input Units | Output Units | Parameters   |\n",
        "# | -------- | ----------- | ------------ | -------------|\n",
        "# | Dense(8) | 3           | 8            | 3×8 + 8 = 32 |\n",
        "# | Dense(5) | 8           | 5            | 8×5 + 5 = 45 |\n",
        "# | Dense(2) | 5           | 2            | 5×2 + 2 = 12 |\n",
        "# | Dense(1) | 2           | 1            | 2×1 + 1 = 3  |\n"
      ]
    },
    {
      "cell_type": "markdown",
      "metadata": {
        "id": "wYt_2_7DdD1W"
      },
      "source": [
        "# get weights and biases"
      ]
    },
    {
      "cell_type": "code",
      "execution_count": 67,
      "metadata": {
        "colab": {
          "base_uri": "https://localhost:8080/"
        },
        "id": "kd3fV0oqdK04",
        "outputId": "d80d0d54-d7a0-4773-bf37-1640ab4ad533"
      },
      "outputs": [
        {
          "name": "stdout",
          "output_type": "stream",
          "text": [
            "w1:  [[ 0.88514924  0.04819459 -0.53139126  0.596558   -0.56652284]\n",
            " [ 0.8940575  -0.48042476  0.10958409  0.769156    0.21398866]] \n",
            "shape:  (2, 5)\n",
            "b1:  [0. 0. 0. 0. 0.] \n",
            "shape:  (5,)\n",
            "w2:  [[ 0.02644539]\n",
            " [ 0.7510884 ]\n",
            " [ 0.6832681 ]\n",
            " [ 0.07589746]\n",
            " [-0.94337606]] \n",
            "shape:  (5, 1)\n",
            "b2:  [0.] \n",
            "shape:  (1,)\n"
          ]
        }
      ],
      "source": [
        "w1, b1 = model.get_layer('layer_1').get_weights()\n",
        "print('w1: ', w1, '\\nshape: ', w1.shape)\n",
        "print('b1: ', b1, '\\nshape: ', b1.shape)\n",
        "w2, b2 = model.get_layer('layer_2').get_weights()\n",
        "print('w2: ', w2, '\\nshape: ', w2.shape)\n",
        "print('b2: ', b2, '\\nshape: ', b2.shape)"
      ]
    },
    {
      "cell_type": "markdown",
      "metadata": {
        "id": "iNo8d772emif"
      },
      "source": [
        "# train model"
      ]
    },
    {
      "cell_type": "code",
      "execution_count": 68,
      "metadata": {
        "id": "Yk1fYhgrd_Ry"
      },
      "outputs": [],
      "source": [
        "model.compile(\n",
        "    loss = tf.keras.losses.BinaryCrossentropy(),\n",
        "    optimizer = tf.keras.optimizers.Adam(learning_rate=0.01)\n",
        ")"
      ]
    },
    {
      "cell_type": "code",
      "execution_count": 69,
      "metadata": {
        "colab": {
          "base_uri": "https://localhost:8080/"
        },
        "id": "qBMsRrrDes2Z",
        "outputId": "2e148a9a-cab6-4cb2-b784-b35ba5703751"
      },
      "outputs": [
        {
          "name": "stdout",
          "output_type": "stream",
          "text": [
            "Epoch 1/10\n",
            "\u001b[1m6250/6250\u001b[0m \u001b[32m━━━━━━━━━━━━━━━━━━━━\u001b[0m\u001b[37m\u001b[0m \u001b[1m11s\u001b[0m 2ms/step - loss: 0.2524\n",
            "Epoch 2/10\n",
            "\u001b[1m6250/6250\u001b[0m \u001b[32m━━━━━━━━━━━━━━━━━━━━\u001b[0m\u001b[37m\u001b[0m \u001b[1m11s\u001b[0m 2ms/step - loss: 0.1064\n",
            "Epoch 3/10\n",
            "\u001b[1m6250/6250\u001b[0m \u001b[32m━━━━━━━━━━━━━━━━━━━━\u001b[0m\u001b[37m\u001b[0m \u001b[1m11s\u001b[0m 2ms/step - loss: 0.0267\n",
            "Epoch 4/10\n",
            "\u001b[1m6250/6250\u001b[0m \u001b[32m━━━━━━━━━━━━━━━━━━━━\u001b[0m\u001b[37m\u001b[0m \u001b[1m11s\u001b[0m 2ms/step - loss: 0.0132\n",
            "Epoch 5/10\n",
            "\u001b[1m6250/6250\u001b[0m \u001b[32m━━━━━━━━━━━━━━━━━━━━\u001b[0m\u001b[37m\u001b[0m \u001b[1m10s\u001b[0m 2ms/step - loss: 0.0081\n",
            "Epoch 6/10\n",
            "\u001b[1m6250/6250\u001b[0m \u001b[32m━━━━━━━━━━━━━━━━━━━━\u001b[0m\u001b[37m\u001b[0m \u001b[1m11s\u001b[0m 2ms/step - loss: 0.0049\n",
            "Epoch 7/10\n",
            "\u001b[1m6250/6250\u001b[0m \u001b[32m━━━━━━━━━━━━━━━━━━━━\u001b[0m\u001b[37m\u001b[0m \u001b[1m11s\u001b[0m 2ms/step - loss: 0.0029\n",
            "Epoch 8/10\n",
            "\u001b[1m6250/6250\u001b[0m \u001b[32m━━━━━━━━━━━━━━━━━━━━\u001b[0m\u001b[37m\u001b[0m \u001b[1m11s\u001b[0m 2ms/step - loss: 0.0017\n",
            "Epoch 9/10\n",
            "\u001b[1m6250/6250\u001b[0m \u001b[32m━━━━━━━━━━━━━━━━━━━━\u001b[0m\u001b[37m\u001b[0m \u001b[1m20s\u001b[0m 2ms/step - loss: 9.1476e-04\n",
            "Epoch 10/10\n",
            "\u001b[1m6250/6250\u001b[0m \u001b[32m━━━━━━━━━━━━━━━━━━━━\u001b[0m\u001b[37m\u001b[0m \u001b[1m10s\u001b[0m 2ms/step - loss: 4.8797e-04\n"
          ]
        },
        {
          "data": {
            "text/plain": [
              "<keras.src.callbacks.history.History at 0x7d5eae7ced10>"
            ]
          },
          "execution_count": 69,
          "metadata": {},
          "output_type": "execute_result"
        }
      ],
      "source": [
        "model.fit(xt, yt, epochs=10)"
      ]
    },
    {
      "cell_type": "markdown",
      "metadata": {
        "id": "w7o8Ja2zfIN_"
      },
      "source": [
        "# updated weights and biases after fit"
      ]
    },
    {
      "cell_type": "code",
      "execution_count": 70,
      "metadata": {
        "colab": {
          "base_uri": "https://localhost:8080/"
        },
        "id": "aByvZyK9fRsH",
        "outputId": "5dcc064d-e3c7-48b6-dd63-0f5471d7b54b"
      },
      "outputs": [
        {
          "name": "stdout",
          "output_type": "stream",
          "text": [
            "w1:  [[ -0.31948584   0.5992545   -8.445109    18.933447   -11.701638  ]\n",
            " [-10.441818   -17.562462   -16.750504    14.801568    -0.46347585]] \n",
            "shape:  (2, 5)\n",
            "b1:  [-13.21925    14.466621    2.5005581   1.2841362 -13.059748 ] \n",
            "shape:  (5,)\n",
            "w2:  [[-53.770947]\n",
            " [ 11.250407]\n",
            " [ 10.132253]\n",
            " [-57.128033]\n",
            " [-56.90694 ]] \n",
            "shape:  (5, 1)\n",
            "b2:  [6.106789] \n",
            "shape:  (1,)\n"
          ]
        }
      ],
      "source": [
        "w1, b1 = model.get_layer('layer_1').get_weights()\n",
        "print('w1: ', w1, '\\nshape: ', w1.shape)\n",
        "print('b1: ', b1, '\\nshape: ', b1.shape)\n",
        "w2, b2 = model.get_layer('layer_2').get_weights()\n",
        "print('w2: ', w2, '\\nshape: ', w2.shape)\n",
        "print('b2: ', b2, '\\nshape: ', b2.shape)"
      ]
    },
    {
      "cell_type": "markdown",
      "metadata": {
        "id": "3HCHtYXyg0b7"
      },
      "source": [
        "# prediction"
      ]
    },
    {
      "cell_type": "code",
      "execution_count": 71,
      "metadata": {
        "colab": {
          "base_uri": "https://localhost:8080/"
        },
        "id": "jHVnqb2_g5Bj",
        "outputId": "395b9c80-513c-4084-c647-4f4cd72ca241"
      },
      "outputs": [
        {
          "name": "stdout",
          "output_type": "stream",
          "text": [
            "\u001b[1m1/1\u001b[0m \u001b[32m━━━━━━━━━━━━━━━━━━━━\u001b[0m\u001b[37m\u001b[0m \u001b[1m0s\u001b[0m 60ms/step\n",
            "[[9.999451e-01]\n",
            " [6.900531e-23]]\n"
          ]
        }
      ],
      "source": [
        "new_data_point = np.array([\n",
        "    [200,13.9],\n",
        "    [200,17]])\n",
        "new_data_pointn = norm_l(new_data_point)\n",
        "pred = model.predict(new_data_pointn)\n",
        "print(pred)"
      ]
    },
    {
      "cell_type": "markdown",
      "metadata": {
        "id": "cYD_3hSahecZ"
      },
      "source": [
        "# convert to decision"
      ]
    },
    {
      "cell_type": "code",
      "execution_count": 75,
      "metadata": {
        "colab": {
          "base_uri": "https://localhost:8080/"
        },
        "id": "qkK-0qVqhdpb",
        "outputId": "89fc3163-1c6b-4086-eafc-79b48b0c7af9"
      },
      "outputs": [
        {
          "name": "stdout",
          "output_type": "stream",
          "text": [
            "decisions:\n",
            " [[1.]\n",
            " [0.]]\n"
          ]
        }
      ],
      "source": [
        "yhat = np.zeros_like(pred)\n",
        "# creates a new NumPy array yhat that: Has the same shape and data type as the predictions array and is filled with zeros.\n",
        "\n",
        "for i in range(len(pred)):\n",
        "  if pred[i] >= 0.5:\n",
        "    yhat[i] = 1\n",
        "  else:\n",
        "    yhat[i] = 0\n",
        "print('decisions:\\n',yhat)"
      ]
    }
  ],
  "metadata": {
    "colab": {
      "collapsed_sections": [
        "DNn7tRf3RGVT"
      ],
      "provenance": []
    },
    "kernelspec": {
      "display_name": "Python 3",
      "name": "python3"
    },
    "language_info": {
      "name": "python"
    }
  },
  "nbformat": 4,
  "nbformat_minor": 0
}
