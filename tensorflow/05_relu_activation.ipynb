{
  "nbformat": 4,
  "nbformat_minor": 0,
  "metadata": {
    "colab": {
      "provenance": []
    },
    "kernelspec": {
      "name": "python3",
      "display_name": "Python 3"
    },
    "language_info": {
      "name": "python"
    }
  },
  "cells": [
    {
      "cell_type": "code",
      "execution_count": 1,
      "metadata": {
        "id": "0avUFRI84rpt"
      },
      "outputs": [],
      "source": [
        "import numpy as np\n",
        "import tensorflow as tf"
      ]
    },
    {
      "cell_type": "markdown",
      "source": [
        "# model"
      ],
      "metadata": {
        "id": "c3Jw_lK15C1Z"
      }
    },
    {
      "cell_type": "code",
      "source": [
        "# activation function\n",
        "def relu(z):\n",
        "  g = np.maximum(0, z)\n",
        "  return g\n",
        "\n",
        "# dense layer\n",
        "def dense(AT, W, b):\n",
        "  z = np.matmul(AT, W) + b\n",
        "  A_out = relu(z)\n",
        "  return A_out\n",
        "\n",
        "# model\n",
        "def sequential(x, w1, b1, w2, b2):\n",
        "  a1 = dense(x, w1, b1)\n",
        "  a2 = dense(a1, w2, b2)\n",
        "  return a2"
      ],
      "metadata": {
        "id": "K41Fxabw5CZE"
      },
      "execution_count": 9,
      "outputs": []
    },
    {
      "cell_type": "markdown",
      "source": [
        "# prediction"
      ],
      "metadata": {
        "id": "pV8-3RE16b9O"
      }
    },
    {
      "cell_type": "code",
      "source": [
        "w1_tmp = np.array([[0.5, 0.3, 0.1], [0.2, 0.4, 0.6]])\n",
        "b1_tmp = np.array([0.1, 0.2, 0.3])\n",
        "w2_tmp = np.array([[0.7], [0.8], [0.9]])\n",
        "b2_tmp = np.array([0.5])"
      ],
      "metadata": {
        "id": "aEZgGlTu6Yny"
      },
      "execution_count": 18,
      "outputs": []
    },
    {
      "cell_type": "code",
      "source": [
        "def predict(x, w1, b1, w2, b2):\n",
        "  m = x.shape[0]\n",
        "  p = np.zeros((m, 1))\n",
        "  for i in range(m):\n",
        "    p[i, 0] = sequential(x[i], w1, b1, w2, b2).item()\n",
        "    print('\\nSample: ', i, ' \\nPredictions array:\\n', p)\n",
        "  return p"
      ],
      "metadata": {
        "id": "gTSz3fJX6eOF"
      },
      "execution_count": 36,
      "outputs": []
    },
    {
      "cell_type": "code",
      "source": [
        "x_test = np.array([\n",
        "    [150, -12],\n",
        "    [-5, 10],\n",
        "    [0, 0],\n",
        "    [200, 30],\n",
        "    [-100, -50],\n",
        "    [50, -25],\n",
        "    [-20, 5],\n",
        "    [100, 0],\n",
        "    [0, 100],\n",
        "    [300, -100],\n",
        "])\n",
        "# normalize x_test\n",
        "norm_l = tf.keras.layers.Normalization(axis=-1)\n",
        "norm_l.adapt(x_test)\n",
        "x_test_n = norm_l(x_test)\n",
        "\n",
        "# make prediction\n",
        "prediction = predict(x_test_n, w1_tmp, b1_tmp, w2_tmp, b2_tmp)"
      ],
      "metadata": {
        "colab": {
          "base_uri": "https://localhost:8080/"
        },
        "id": "y5wYIHoO8HLX",
        "outputId": "15e22764-26e1-4cbc-ceb9-7bd31f3b7c14"
      },
      "execution_count": 39,
      "outputs": [
        {
          "output_type": "stream",
          "name": "stdout",
          "text": [
            "\n",
            "Sample:  0  \n",
            "Predictions array:\n",
            " [[1.33346177]\n",
            " [0.        ]\n",
            " [0.        ]\n",
            " [0.        ]\n",
            " [0.        ]\n",
            " [0.        ]\n",
            " [0.        ]\n",
            " [0.        ]\n",
            " [0.        ]\n",
            " [0.        ]]\n",
            "\n",
            "Sample:  1  \n",
            "Predictions array:\n",
            " [[1.33346177]\n",
            " [0.96872074]\n",
            " [0.        ]\n",
            " [0.        ]\n",
            " [0.        ]\n",
            " [0.        ]\n",
            " [0.        ]\n",
            " [0.        ]\n",
            " [0.        ]\n",
            " [0.        ]]\n",
            "\n",
            "Sample:  2  \n",
            "Predictions array:\n",
            " [[1.33346177]\n",
            " [0.96872074]\n",
            " [0.80808159]\n",
            " [0.        ]\n",
            " [0.        ]\n",
            " [0.        ]\n",
            " [0.        ]\n",
            " [0.        ]\n",
            " [0.        ]\n",
            " [0.        ]]\n",
            "\n",
            "Sample:  3  \n",
            "Predictions array:\n",
            " [[1.33346177]\n",
            " [0.96872074]\n",
            " [0.80808159]\n",
            " [2.48704807]\n",
            " [0.        ]\n",
            " [0.        ]\n",
            " [0.        ]\n",
            " [0.        ]\n",
            " [0.        ]\n",
            " [0.        ]]\n",
            "\n",
            "Sample:  4  \n",
            "Predictions array:\n",
            " [[1.33346177]\n",
            " [0.96872074]\n",
            " [0.80808159]\n",
            " [2.48704807]\n",
            " [0.5       ]\n",
            " [0.        ]\n",
            " [0.        ]\n",
            " [0.        ]\n",
            " [0.        ]\n",
            " [0.        ]]\n",
            "\n",
            "Sample:  5  \n",
            "Predictions array:\n",
            " [[1.33346177]\n",
            " [0.96872074]\n",
            " [0.80808159]\n",
            " [2.48704807]\n",
            " [0.5       ]\n",
            " [0.52746645]\n",
            " [0.        ]\n",
            " [0.        ]\n",
            " [0.        ]\n",
            " [0.        ]]\n",
            "\n",
            "Sample:  6  \n",
            "Predictions array:\n",
            " [[1.33346177]\n",
            " [0.96872074]\n",
            " [0.80808159]\n",
            " [2.48704807]\n",
            " [0.5       ]\n",
            " [0.52746645]\n",
            " [0.83772426]\n",
            " [0.        ]\n",
            " [0.        ]\n",
            " [0.        ]]\n",
            "\n",
            "Sample:  7  \n",
            "Predictions array:\n",
            " [[1.33346177]\n",
            " [0.96872074]\n",
            " [0.80808159]\n",
            " [2.48704807]\n",
            " [0.5       ]\n",
            " [0.52746645]\n",
            " [0.83772426]\n",
            " [1.27945527]\n",
            " [0.        ]\n",
            " [0.        ]]\n",
            "\n",
            "Sample:  8  \n",
            "Predictions array:\n",
            " [[1.33346177]\n",
            " [0.96872074]\n",
            " [0.80808159]\n",
            " [2.48704807]\n",
            " [0.5       ]\n",
            " [0.52746645]\n",
            " [0.83772426]\n",
            " [1.27945527]\n",
            " [2.7189989 ]\n",
            " [0.        ]]\n",
            "\n",
            "Sample:  9  \n",
            "Predictions array:\n",
            " [[1.33346177]\n",
            " [0.96872074]\n",
            " [0.80808159]\n",
            " [2.48704807]\n",
            " [0.5       ]\n",
            " [0.52746645]\n",
            " [0.83772426]\n",
            " [1.27945527]\n",
            " [2.7189989 ]\n",
            " [1.03640254]]\n"
          ]
        }
      ]
    },
    {
      "cell_type": "code",
      "source": [
        "print(prediction)"
      ],
      "metadata": {
        "colab": {
          "base_uri": "https://localhost:8080/"
        },
        "id": "XATeVIqjBgQP",
        "outputId": "f9274234-1f6d-4b1d-b4ac-7570f5e7b0ca"
      },
      "execution_count": 40,
      "outputs": [
        {
          "output_type": "stream",
          "name": "stdout",
          "text": [
            "[[1.33346177]\n",
            " [0.96872074]\n",
            " [0.80808159]\n",
            " [2.48704807]\n",
            " [0.5       ]\n",
            " [0.52746645]\n",
            " [0.83772426]\n",
            " [1.27945527]\n",
            " [2.7189989 ]\n",
            " [1.03640254]]\n"
          ]
        }
      ]
    }
  ]
}