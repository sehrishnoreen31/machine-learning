{
  "nbformat": 4,
  "nbformat_minor": 0,
  "metadata": {
    "colab": {
      "provenance": []
    },
    "kernelspec": {
      "name": "python3",
      "display_name": "Python 3"
    },
    "language_info": {
      "name": "python"
    }
  },
  "cells": [
    {
      "cell_type": "code",
      "source": [
        "import tensorflow as tf\n",
        "from tensorflow.keras.layers import Dense\n",
        "from tensorflow.keras.models import Sequential\n",
        "import numpy as np"
      ],
      "metadata": {
        "id": "V1J59gQjWBYv"
      },
      "execution_count": 41,
      "outputs": []
    },
    {
      "cell_type": "markdown",
      "source": [
        "## Manual"
      ],
      "metadata": {
        "id": "-VlMrPMIXeBf"
      }
    },
    {
      "cell_type": "code",
      "source": [
        "# coffee example\n",
        "# data -> temp, time\n",
        "x = np.array([[200.0, 20.0]])\n",
        "print(x)\n",
        "# layers\n",
        "layer_1 = Dense(units=3, activation='sigmoid')\n",
        "a1 = layer_1(x)\n",
        "print(a1)\n",
        "layer_2 = Dense(units=1, activation='sigmoid')\n",
        "a2 = layer_2(a1)\n",
        "print(a2)\n",
        "if a2 >= 0.5:\n",
        "  print('good coffee')\n",
        "else:\n",
        "  print('bad coffee')"
      ],
      "metadata": {
        "colab": {
          "base_uri": "https://localhost:8080/"
        },
        "id": "hItywZqDWI9U",
        "outputId": "136f20a2-12e5-40d7-b7f7-c987ffe051bd"
      },
      "execution_count": 38,
      "outputs": [
        {
          "output_type": "stream",
          "name": "stdout",
          "text": [
            "[[200.  20.]]\n",
            "tf.Tensor([[9.485656e-26 0.000000e+00 0.000000e+00]], shape=(1, 3), dtype=float32)\n",
            "tf.Tensor([[0.5]], shape=(1, 1), dtype=float32)\n",
            "good coffee\n"
          ]
        }
      ]
    },
    {
      "cell_type": "code",
      "source": [
        "# coffee example\n",
        "# data -> temp, time\n",
        "x = np.array([[200.0, 20.0]])\n",
        "print(x)\n",
        "# layers\n",
        "layer_1 = Dense(units=3, activation='relu')\n",
        "a1 = layer_1(x)\n",
        "print(a1)\n",
        "layer_2 = Dense(units=1, activation='relu')\n",
        "a2 = layer_2(a1)\n",
        "print(a2)\n",
        "if a2 >= 0.5:\n",
        "  print('good coffee')\n",
        "else:\n",
        "  print('bad coffee')"
      ],
      "metadata": {
        "colab": {
          "base_uri": "https://localhost:8080/"
        },
        "id": "_bdNgXGxapcx",
        "outputId": "078ad9ec-8cb5-4de6-b9f4-c12502442a87"
      },
      "execution_count": 39,
      "outputs": [
        {
          "output_type": "stream",
          "name": "stdout",
          "text": [
            "[[200.  20.]]\n",
            "tf.Tensor([[ 0.        0.       11.662459]], shape=(1, 3), dtype=float32)\n",
            "tf.Tensor([[3.8663354]], shape=(1, 1), dtype=float32)\n",
            "good coffee\n"
          ]
        }
      ]
    },
    {
      "cell_type": "markdown",
      "source": [
        "## Sequential model"
      ],
      "metadata": {
        "id": "PNN19B8CYEVK"
      }
    },
    {
      "cell_type": "code",
      "source": [
        "# data\n",
        "x = np.array([[200, 17],\n",
        "              [120, 5],\n",
        "              [425, 20],\n",
        "              [212, 18]])\n",
        "y = np.array([1,0,0,1])\n",
        "\n",
        "# model\n",
        "model = Sequential([\n",
        "    Dense(units=3, activation='sigmoid'),\n",
        "    Dense(units=1, activation='sigmoid')\n",
        "])\n",
        "model.compile(loss='binary_crossentropy')\n",
        "model.fit(x, y)\n",
        "new_data = np.array([[200,30]])\n",
        "\n",
        "pred = model.predict(new_data)\n",
        "print(pred)\n",
        "if pred >= 0.5:\n",
        "  print('good coffee')\n",
        "else:\n",
        "  print('bad coffee')"
      ],
      "metadata": {
        "colab": {
          "base_uri": "https://localhost:8080/"
        },
        "id": "wQSC1BYXXruQ",
        "outputId": "f125718f-91cd-4e1e-cbf4-e2d89710cfcb"
      },
      "execution_count": 55,
      "outputs": [
        {
          "output_type": "stream",
          "name": "stderr",
          "text": [
            "WARNING:tensorflow:5 out of the last 5 calls to <function TensorFlowTrainer._make_function.<locals>.multi_step_on_iterator at 0x789748acbce0> triggered tf.function retracing. Tracing is expensive and the excessive number of tracings could be due to (1) creating @tf.function repeatedly in a loop, (2) passing tensors with different shapes, (3) passing Python objects instead of tensors. For (1), please define your @tf.function outside of the loop. For (2), @tf.function has reduce_retracing=True option that can avoid unnecessary retracing. For (3), please refer to https://www.tensorflow.org/guide/function#controlling_retracing and https://www.tensorflow.org/api_docs/python/tf/function for  more details.\n"
          ]
        },
        {
          "output_type": "stream",
          "name": "stdout",
          "text": [
            "\u001b[1m1/1\u001b[0m \u001b[32m━━━━━━━━━━━━━━━━━━━━\u001b[0m\u001b[37m\u001b[0m \u001b[1m1s\u001b[0m 940ms/step - loss: 0.7421\n"
          ]
        },
        {
          "output_type": "stream",
          "name": "stderr",
          "text": [
            "WARNING:tensorflow:5 out of the last 10 calls to <function TensorFlowTrainer.make_predict_function.<locals>.one_step_on_data_distributed at 0x78974cf1f2e0> triggered tf.function retracing. Tracing is expensive and the excessive number of tracings could be due to (1) creating @tf.function repeatedly in a loop, (2) passing tensors with different shapes, (3) passing Python objects instead of tensors. For (1), please define your @tf.function outside of the loop. For (2), @tf.function has reduce_retracing=True option that can avoid unnecessary retracing. For (3), please refer to https://www.tensorflow.org/guide/function#controlling_retracing and https://www.tensorflow.org/api_docs/python/tf/function for  more details.\n"
          ]
        },
        {
          "output_type": "stream",
          "name": "stdout",
          "text": [
            "\u001b[1m1/1\u001b[0m \u001b[32m━━━━━━━━━━━━━━━━━━━━\u001b[0m\u001b[37m\u001b[0m \u001b[1m0s\u001b[0m 53ms/step\n",
            "[[0.5791244]]\n",
            "good coffee\n"
          ]
        }
      ]
    },
    {
      "cell_type": "code",
      "source": [
        "# data\n",
        "x = np.array([[200, 17],\n",
        "              [120, 5],\n",
        "              [425, 20],\n",
        "              [212, 18]])\n",
        "y = np.array([1,0,0,1])\n",
        "\n",
        "# model\n",
        "model = Sequential([\n",
        "    Dense(units=3, activation='relu'),\n",
        "    Dense(units=1, activation='relu')\n",
        "])\n",
        "model.compile(loss='binary_crossentropy')\n",
        "model.fit(x, y)\n",
        "new_data = np.array([[200,30]])\n",
        "\n",
        "pred = model.predict(new_data)\n",
        "print(pred)\n",
        "if pred >= 0.5:\n",
        "  print('good coffee')\n",
        "else:\n",
        "  print('bad coffee')"
      ],
      "metadata": {
        "colab": {
          "base_uri": "https://localhost:8080/"
        },
        "id": "Km7xKlzRcttR",
        "outputId": "4dd02058-6f7b-4b4a-f79a-186812169340"
      },
      "execution_count": 56,
      "outputs": [
        {
          "output_type": "stream",
          "name": "stderr",
          "text": [
            "WARNING:tensorflow:6 out of the last 6 calls to <function TensorFlowTrainer._make_function.<locals>.multi_step_on_iterator at 0x78974cfe5580> triggered tf.function retracing. Tracing is expensive and the excessive number of tracings could be due to (1) creating @tf.function repeatedly in a loop, (2) passing tensors with different shapes, (3) passing Python objects instead of tensors. For (1), please define your @tf.function outside of the loop. For (2), @tf.function has reduce_retracing=True option that can avoid unnecessary retracing. For (3), please refer to https://www.tensorflow.org/guide/function#controlling_retracing and https://www.tensorflow.org/api_docs/python/tf/function for  more details.\n"
          ]
        },
        {
          "output_type": "stream",
          "name": "stdout",
          "text": [
            "\u001b[1m1/1\u001b[0m \u001b[32m━━━━━━━━━━━━━━━━━━━━\u001b[0m\u001b[37m\u001b[0m \u001b[1m1s\u001b[0m 544ms/step - loss: 8.0590\n"
          ]
        },
        {
          "output_type": "stream",
          "name": "stderr",
          "text": [
            "WARNING:tensorflow:6 out of the last 11 calls to <function TensorFlowTrainer.make_predict_function.<locals>.one_step_on_data_distributed at 0x78974cfe6700> triggered tf.function retracing. Tracing is expensive and the excessive number of tracings could be due to (1) creating @tf.function repeatedly in a loop, (2) passing tensors with different shapes, (3) passing Python objects instead of tensors. For (1), please define your @tf.function outside of the loop. For (2), @tf.function has reduce_retracing=True option that can avoid unnecessary retracing. For (3), please refer to https://www.tensorflow.org/guide/function#controlling_retracing and https://www.tensorflow.org/api_docs/python/tf/function for  more details.\n"
          ]
        },
        {
          "output_type": "stream",
          "name": "stdout",
          "text": [
            "\u001b[1m1/1\u001b[0m \u001b[32m━━━━━━━━━━━━━━━━━━━━\u001b[0m\u001b[37m\u001b[0m \u001b[1m0s\u001b[0m 59ms/step\n",
            "[[0.]]\n",
            "bad coffee\n"
          ]
        }
      ]
    }
  ]
}