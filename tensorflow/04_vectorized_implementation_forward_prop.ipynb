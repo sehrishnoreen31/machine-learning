{
  "cells": [
    {
      "cell_type": "code",
      "execution_count": 43,
      "metadata": {
        "id": "CxzIMB_OZr_s"
      },
      "outputs": [],
      "source": [
        "import numpy as np\n",
        "import tensorflow as tf"
      ]
    },
    {
      "cell_type": "markdown",
      "metadata": {
        "id": "3ESPGo5KaO-N"
      },
      "source": [
        "# normlization"
      ]
    },
    {
      "cell_type": "code",
      "execution_count": 45,
      "metadata": {
        "colab": {
          "base_uri": "https://localhost:8080/"
        },
        "id": "6r2WdjFnapKl",
        "outputId": "1a33a169-ae9c-4f7f-eb1c-ce8d0df58691"
      },
      "outputs": [
        {
          "name": "stdout",
          "output_type": "stream",
          "text": [
            "temp:  max:  284.99 min:  151.32\n",
            "duration:  max:  15.45 min:  11.51\n",
            "temp:  max:  1.659659 min:  -1.6853086\n",
            "duration:  max:  1.7897582 min:  -1.7021064\n"
          ]
        }
      ],
      "source": [
        "# before normalization\n",
        "print('temp: ', 'max: ', np.max(x[:, 0]), 'min: ', np.min(x[:, 0]))\n",
        "print('duration: ', 'max: ', np.max(x[:, 1]), 'min: ', np.min(x[:, 1]))\n",
        "\n",
        "# normalization\n",
        "norm_l = tf.keras.layers.Normalization(axis=-1)\n",
        "norm_l.adapt(x)\n",
        "xn = norm_l(x).numpy()\n",
        "\n",
        "# after normalization\n",
        "print('temp: ', 'max: ', np.max(xn[:, 0]), 'min: ', np.min(xn[:, 0]))\n",
        "print('duration: ', 'max: ', np.max(xn[:, 1]), 'min: ', np.min(xn[:, 1]))"
      ]
    },
    {
      "cell_type": "markdown",
      "metadata": {
        "id": "C-LjcutIb4Mf"
      },
      "source": [
        "# model"
      ]
    },
    {
      "cell_type": "code",
      "execution_count": 47,
      "metadata": {
        "id": "kL-07VwKb9O5"
      },
      "outputs": [],
      "source": [
        "# activation function\n",
        "def sigmoid(z):\n",
        "  z = np.clip(z, -500, 500) # protect against overflow\n",
        "  g = 1.0 / (1.0 + np.exp(-z))\n",
        "  return g\n",
        "\n",
        "# layer\n",
        "def dense(AT, W, B):\n",
        "  Z = np.matmul(AT, W) + B # matrix multiplication\n",
        "  A_out = sigmoid(Z)\n",
        "  return A_out\n",
        "\n",
        "# model\n",
        "def sequential(x, w1, b1, w2, b2):\n",
        "  a1 = dense(x, w1, b1)\n",
        "  print(a1)\n",
        "  a2 = dense(a1, w2, b2)\n",
        "  print(a2)\n",
        "  return a2\n"
      ]
    },
    {
      "cell_type": "markdown",
      "metadata": {
        "id": "QZuE_N9wgcjd"
      },
      "source": [
        "# weights and biases initialization"
      ]
    },
    {
      "cell_type": "code",
      "execution_count": 49,
      "metadata": {
        "id": "azoaUmMheqdT"
      },
      "outputs": [],
      "source": [
        "w1_tmp = np.array( [[-8.93,  0.29, 12.9 ], [-0.1,  -7.32, 10.81]] )\n",
        "b1_tmp = np.array( [-9.82, -9.28,  0.96] )\n",
        "w2_tmp = np.array( [[-31.18], [-27.59], [-32.56]] )\n",
        "b2_tmp = np.array( [15.41] )"
      ]
    },
    {
      "cell_type": "markdown",
      "metadata": {
        "id": "sajbdgnaetCN"
      },
      "source": [
        "# prediction"
      ]
    },
    {
      "cell_type": "code",
      "execution_count": 50,
      "metadata": {
        "id": "SXllrj6ceyXW"
      },
      "outputs": [],
      "source": [
        "def predict(x, w1, b1, w2, b2):\n",
        "  m = x.shape[0] # number of rows/samples\n",
        "  p = np.zeros((m,1)) # zeros array to store predictions\n",
        "  for i in range(m):\n",
        "    p[i,0] = sequential(x[i], w1, b1, w2, b2)\n",
        "  return (p)"
      ]
    },
    {
      "cell_type": "code",
      "execution_count": 51,
      "metadata": {
        "colab": {
          "base_uri": "https://localhost:8080/"
        },
        "id": "7dGpYn8Ye0dW",
        "outputId": "b07c0877-23f1-4136-93ef-8288ae144579"
      },
      "outputs": [
        {
          "name": "stdout",
          "output_type": "stream",
          "text": [
            "[3.36796188e-03 3.87488415e-06 3.61580204e-01]\n",
            "[0.97157995]\n",
            "[2.56094551e-03 7.14754494e-15 1.00000000e+00]\n",
            "[3.28981203e-08]\n"
          ]
        },
        {
          "name": "stderr",
          "output_type": "stream",
          "text": [
            "/tmp/ipython-input-4245855571.py:5: DeprecationWarning: Conversion of an array with ndim > 0 to a scalar is deprecated, and will error in future. Ensure you extract a single element from your array before performing this operation. (Deprecated NumPy 1.25.)\n",
            "  p[i,0] = sequential(x[i], w1, b1, w2, b2)\n"
          ]
        }
      ],
      "source": [
        "x_test = np.array([[200, 13.9],\n",
        "                   [200, 17]])\n",
        "# normalize x_test\n",
        "x_test_n = norm_l(x_test)\n",
        "\n",
        "# make prediction\n",
        "prediction = predict(x_test_n, w1_tmp, b1_tmp, w2_tmp, b2_tmp)"
      ]
    },
    {
      "cell_type": "code",
      "execution_count": 52,
      "metadata": {
        "colab": {
          "base_uri": "https://localhost:8080/"
        },
        "id": "3TIqRUZ4e3Hq",
        "outputId": "5428f6a3-7a5b-4571-f8a9-ad9ed601f0b8"
      },
      "outputs": [
        {
          "name": "stdout",
          "output_type": "stream",
          "text": [
            "[[9.71579948e-01]\n",
            " [3.28981203e-08]]\n"
          ]
        }
      ],
      "source": [
        "print(prediction)"
      ]
    },
    {
      "cell_type": "markdown",
      "metadata": {
        "id": "nfgqmZYEe55X"
      },
      "source": [
        "# convert to decision"
      ]
    },
    {
      "cell_type": "code",
      "execution_count": 53,
      "metadata": {
        "colab": {
          "base_uri": "https://localhost:8080/"
        },
        "id": "S9jhCBSEe5HP",
        "outputId": "073bd4d1-a438-466d-d761-71704368b45d"
      },
      "outputs": [
        {
          "name": "stdout",
          "output_type": "stream",
          "text": [
            "[[1.]\n",
            " [0.]]\n"
          ]
        }
      ],
      "source": [
        "yhat = np.zeros_like(prediction) # zeros array to store decsion\n",
        "for i in range(len(prediction)):\n",
        "  if prediction[i] >= 0.5:\n",
        "    yhat[i] = 1\n",
        "  else:\n",
        "    yhat[i] = 0\n",
        "# print decisions\n",
        "print(yhat)"
      ]
    }
  ],
  "metadata": {
    "colab": {
      "provenance": []
    },
    "kernelspec": {
      "display_name": "Python 3",
      "name": "python3"
    },
    "language_info": {
      "name": "python"
    }
  },
  "nbformat": 4,
  "nbformat_minor": 0
}
