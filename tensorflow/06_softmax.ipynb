{
  "cells": [
    {
      "cell_type": "code",
      "execution_count": 44,
      "metadata": {
        "id": "aeml6za7GhXg"
      },
      "outputs": [],
      "source": [
        "import tensorflow as tf\n",
        "from tensorflow.keras import Sequential\n",
        "from tensorflow.keras.layers import Dense\n",
        "import numpy as np\n",
        "from sklearn.datasets import make_blobs"
      ]
    },
    {
      "cell_type": "markdown",
      "metadata": {
        "id": "0AEdtjCEJgsI"
      },
      "source": [
        "# softmax\n",
        "\n",
        "![grtey5y4.png](data:image/png;base64,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)"
      ]
    },
    {
      "cell_type": "code",
      "execution_count": null,
      "metadata": {
        "id": "uBznU4WoIJaj"
      },
      "outputs": [],
      "source": [
        "# def softmax(z):\n",
        "#   ez = np.exp(z)\n",
        "#   sm_z = ez / np.sum(ez)\n",
        "#   return sm_z"
      ]
    },
    {
      "cell_type": "markdown",
      "metadata": {
        "id": "cThSBXuIJon_"
      },
      "source": [
        "# dataset"
      ]
    },
    {
      "cell_type": "code",
      "execution_count": 46,
      "metadata": {
        "id": "12bz_S4OJsOD"
      },
      "outputs": [],
      "source": [
        "centers = [[-5, 2], [-2, -2], [1, 2], [5, -2]]\n",
        "x_train, y_train = make_blobs(n_samples=2000, centers=centers, cluster_std=1.0, random_state=38)"
      ]
    },
    {
      "cell_type": "code",
      "execution_count": 47,
      "metadata": {
        "colab": {
          "base_uri": "https://localhost:8080/",
          "height": 156
        },
        "id": "aVbKJUZNKUtg",
        "outputId": "4635e858-a1a6-4d5c-b576-f49e35126732"
      },
      "outputs": [
        {
          "data": {
            "text/plain": [
              "array([[ 4.03064741, -1.52993271],\n",
              "       [ 6.52960132, -0.69722181],\n",
              "       [ 3.73222469, -2.71795003],\n",
              "       ...,\n",
              "       [ 3.9392148 , -0.19859683],\n",
              "       [-0.02104332,  1.73071816],\n",
              "       [ 5.57554604,  0.01553397]])"
            ]
          },
          "metadata": {},
          "output_type": "display_data"
        },
        {
          "data": {
            "text/plain": [
              "array([3, 3, 3, ..., 3, 2, 3])"
            ]
          },
          "metadata": {},
          "output_type": "display_data"
        }
      ],
      "source": [
        "display(x_train)\n",
        "display(y_train)"
      ]
    },
    {
      "cell_type": "markdown",
      "metadata": {
        "id": "Ht83QGeYKd3o"
      },
      "source": [
        "# model"
      ]
    },
    {
      "cell_type": "code",
      "execution_count": 48,
      "metadata": {
        "id": "rjkhBLktKjQF"
      },
      "outputs": [],
      "source": [
        "model = Sequential([\n",
        "    Dense(units = 25, activation='relu', name='layer_1'),\n",
        "    Dense(units = 15, activation='relu', name='layer_2'),\n",
        "    Dense(units = 4, activation='softmax', name='layer_3')\n",
        "])"
      ]
    },
    {
      "cell_type": "code",
      "execution_count": 49,
      "metadata": {
        "colab": {
          "base_uri": "https://localhost:8080/"
        },
        "id": "mg82Hb5BLHq7",
        "outputId": "72e992ba-5378-4bca-e545-8e8da15d0c07"
      },
      "outputs": [
        {
          "name": "stdout",
          "output_type": "stream",
          "text": [
            "Epoch 1/100\n"
          ]
        },
        {
          "name": "stderr",
          "output_type": "stream",
          "text": [
            "/usr/local/lib/python3.11/dist-packages/keras/src/backend/tensorflow/nn.py:708: UserWarning: \"`sparse_categorical_crossentropy` received `from_logits=True`, but the `output` argument was produced by a Softmax activation and thus does not represent logits. Was this intended?\n",
            "  output, from_logits = _get_logits(\n"
          ]
        },
        {
          "name": "stdout",
          "output_type": "stream",
          "text": [
            "\u001b[1m63/63\u001b[0m \u001b[32m━━━━━━━━━━━━━━━━━━━━\u001b[0m\u001b[37m\u001b[0m \u001b[1m2s\u001b[0m 2ms/step - loss: 0.4599\n",
            "Epoch 2/100\n",
            "\u001b[1m63/63\u001b[0m \u001b[32m━━━━━━━━━━━━━━━━━━━━\u001b[0m\u001b[37m\u001b[0m \u001b[1m0s\u001b[0m 2ms/step - loss: 0.0436\n",
            "Epoch 3/100\n",
            "\u001b[1m63/63\u001b[0m \u001b[32m━━━━━━━━━━━━━━━━━━━━\u001b[0m\u001b[37m\u001b[0m \u001b[1m0s\u001b[0m 2ms/step - loss: 0.0314\n",
            "Epoch 4/100\n",
            "\u001b[1m63/63\u001b[0m \u001b[32m━━━━━━━━━━━━━━━━━━━━\u001b[0m\u001b[37m\u001b[0m \u001b[1m0s\u001b[0m 2ms/step - loss: 0.0295\n",
            "Epoch 5/100\n",
            "\u001b[1m63/63\u001b[0m \u001b[32m━━━━━━━━━━━━━━━━━━━━\u001b[0m\u001b[37m\u001b[0m \u001b[1m0s\u001b[0m 2ms/step - loss: 0.0246\n",
            "Epoch 6/100\n",
            "\u001b[1m63/63\u001b[0m \u001b[32m━━━━━━━━━━━━━━━━━━━━\u001b[0m\u001b[37m\u001b[0m \u001b[1m0s\u001b[0m 2ms/step - loss: 0.0195\n",
            "Epoch 7/100\n",
            "\u001b[1m63/63\u001b[0m \u001b[32m━━━━━━━━━━━━━━━━━━━━\u001b[0m\u001b[37m\u001b[0m \u001b[1m0s\u001b[0m 2ms/step - loss: 0.0262\n",
            "Epoch 8/100\n",
            "\u001b[1m63/63\u001b[0m \u001b[32m━━━━━━━━━━━━━━━━━━━━\u001b[0m\u001b[37m\u001b[0m \u001b[1m0s\u001b[0m 2ms/step - loss: 0.0231\n",
            "Epoch 9/100\n",
            "\u001b[1m63/63\u001b[0m \u001b[32m━━━━━━━━━━━━━━━━━━━━\u001b[0m\u001b[37m\u001b[0m \u001b[1m0s\u001b[0m 2ms/step - loss: 0.0223\n",
            "Epoch 10/100\n",
            "\u001b[1m63/63\u001b[0m \u001b[32m━━━━━━━━━━━━━━━━━━━━\u001b[0m\u001b[37m\u001b[0m \u001b[1m0s\u001b[0m 2ms/step - loss: 0.0345\n",
            "Epoch 11/100\n",
            "\u001b[1m63/63\u001b[0m \u001b[32m━━━━━━━━━━━━━━━━━━━━\u001b[0m\u001b[37m\u001b[0m \u001b[1m0s\u001b[0m 2ms/step - loss: 0.0204\n",
            "Epoch 12/100\n",
            "\u001b[1m63/63\u001b[0m \u001b[32m━━━━━━━━━━━━━━━━━━━━\u001b[0m\u001b[37m\u001b[0m \u001b[1m0s\u001b[0m 3ms/step - loss: 0.0209\n",
            "Epoch 13/100\n",
            "\u001b[1m63/63\u001b[0m \u001b[32m━━━━━━━━━━━━━━━━━━━━\u001b[0m\u001b[37m\u001b[0m \u001b[1m0s\u001b[0m 2ms/step - loss: 0.0130\n",
            "Epoch 14/100\n",
            "\u001b[1m63/63\u001b[0m \u001b[32m━━━━━━━━━━━━━━━━━━━━\u001b[0m\u001b[37m\u001b[0m \u001b[1m0s\u001b[0m 2ms/step - loss: 0.0241\n",
            "Epoch 15/100\n",
            "\u001b[1m63/63\u001b[0m \u001b[32m━━━━━━━━━━━━━━━━━━━━\u001b[0m\u001b[37m\u001b[0m \u001b[1m0s\u001b[0m 2ms/step - loss: 0.0218\n",
            "Epoch 16/100\n",
            "\u001b[1m63/63\u001b[0m \u001b[32m━━━━━━━━━━━━━━━━━━━━\u001b[0m\u001b[37m\u001b[0m \u001b[1m0s\u001b[0m 2ms/step - loss: 0.0192\n",
            "Epoch 17/100\n",
            "\u001b[1m63/63\u001b[0m \u001b[32m━━━━━━━━━━━━━━━━━━━━\u001b[0m\u001b[37m\u001b[0m \u001b[1m0s\u001b[0m 2ms/step - loss: 0.0223\n",
            "Epoch 18/100\n",
            "\u001b[1m63/63\u001b[0m \u001b[32m━━━━━━━━━━━━━━━━━━━━\u001b[0m\u001b[37m\u001b[0m \u001b[1m0s\u001b[0m 2ms/step - loss: 0.0169\n",
            "Epoch 19/100\n",
            "\u001b[1m63/63\u001b[0m \u001b[32m━━━━━━━━━━━━━━━━━━━━\u001b[0m\u001b[37m\u001b[0m \u001b[1m0s\u001b[0m 2ms/step - loss: 0.0210\n",
            "Epoch 20/100\n",
            "\u001b[1m63/63\u001b[0m \u001b[32m━━━━━━━━━━━━━━━━━━━━\u001b[0m\u001b[37m\u001b[0m \u001b[1m0s\u001b[0m 2ms/step - loss: 0.0248\n",
            "Epoch 21/100\n",
            "\u001b[1m63/63\u001b[0m \u001b[32m━━━━━━━━━━━━━━━━━━━━\u001b[0m\u001b[37m\u001b[0m \u001b[1m0s\u001b[0m 2ms/step - loss: 0.0204\n",
            "Epoch 22/100\n",
            "\u001b[1m63/63\u001b[0m \u001b[32m━━━━━━━━━━━━━━━━━━━━\u001b[0m\u001b[37m\u001b[0m \u001b[1m0s\u001b[0m 2ms/step - loss: 0.0237\n",
            "Epoch 23/100\n",
            "\u001b[1m63/63\u001b[0m \u001b[32m━━━━━━━━━━━━━━━━━━━━\u001b[0m\u001b[37m\u001b[0m \u001b[1m0s\u001b[0m 3ms/step - loss: 0.0198\n",
            "Epoch 24/100\n",
            "\u001b[1m63/63\u001b[0m \u001b[32m━━━━━━━━━━━━━━━━━━━━\u001b[0m\u001b[37m\u001b[0m \u001b[1m0s\u001b[0m 2ms/step - loss: 0.0278\n",
            "Epoch 25/100\n",
            "\u001b[1m63/63\u001b[0m \u001b[32m━━━━━━━━━━━━━━━━━━━━\u001b[0m\u001b[37m\u001b[0m \u001b[1m0s\u001b[0m 2ms/step - loss: 0.0250\n",
            "Epoch 26/100\n",
            "\u001b[1m63/63\u001b[0m \u001b[32m━━━━━━━━━━━━━━━━━━━━\u001b[0m\u001b[37m\u001b[0m \u001b[1m0s\u001b[0m 2ms/step - loss: 0.0513\n",
            "Epoch 27/100\n",
            "\u001b[1m63/63\u001b[0m \u001b[32m━━━━━━━━━━━━━━━━━━━━\u001b[0m\u001b[37m\u001b[0m \u001b[1m0s\u001b[0m 4ms/step - loss: 0.0273\n",
            "Epoch 28/100\n",
            "\u001b[1m63/63\u001b[0m \u001b[32m━━━━━━━━━━━━━━━━━━━━\u001b[0m\u001b[37m\u001b[0m \u001b[1m0s\u001b[0m 3ms/step - loss: 0.0218\n",
            "Epoch 29/100\n",
            "\u001b[1m63/63\u001b[0m \u001b[32m━━━━━━━━━━━━━━━━━━━━\u001b[0m\u001b[37m\u001b[0m \u001b[1m0s\u001b[0m 3ms/step - loss: 0.0243\n",
            "Epoch 30/100\n",
            "\u001b[1m63/63\u001b[0m \u001b[32m━━━━━━━━━━━━━━━━━━━━\u001b[0m\u001b[37m\u001b[0m \u001b[1m0s\u001b[0m 4ms/step - loss: 0.0261\n",
            "Epoch 31/100\n",
            "\u001b[1m63/63\u001b[0m \u001b[32m━━━━━━━━━━━━━━━━━━━━\u001b[0m\u001b[37m\u001b[0m \u001b[1m0s\u001b[0m 4ms/step - loss: 0.0192\n",
            "Epoch 32/100\n",
            "\u001b[1m63/63\u001b[0m \u001b[32m━━━━━━━━━━━━━━━━━━━━\u001b[0m\u001b[37m\u001b[0m \u001b[1m0s\u001b[0m 4ms/step - loss: 0.0223\n",
            "Epoch 33/100\n",
            "\u001b[1m63/63\u001b[0m \u001b[32m━━━━━━━━━━━━━━━━━━━━\u001b[0m\u001b[37m\u001b[0m \u001b[1m0s\u001b[0m 4ms/step - loss: 0.0192\n",
            "Epoch 34/100\n",
            "\u001b[1m63/63\u001b[0m \u001b[32m━━━━━━━━━━━━━━━━━━━━\u001b[0m\u001b[37m\u001b[0m \u001b[1m1s\u001b[0m 3ms/step - loss: 0.0214\n",
            "Epoch 35/100\n",
            "\u001b[1m63/63\u001b[0m \u001b[32m━━━━━━━━━━━━━━━━━━━━\u001b[0m\u001b[37m\u001b[0m \u001b[1m0s\u001b[0m 2ms/step - loss: 0.0166\n",
            "Epoch 36/100\n",
            "\u001b[1m63/63\u001b[0m \u001b[32m━━━━━━━━━━━━━━━━━━━━\u001b[0m\u001b[37m\u001b[0m \u001b[1m0s\u001b[0m 2ms/step - loss: 0.0184\n",
            "Epoch 37/100\n",
            "\u001b[1m63/63\u001b[0m \u001b[32m━━━━━━━━━━━━━━━━━━━━\u001b[0m\u001b[37m\u001b[0m \u001b[1m0s\u001b[0m 2ms/step - loss: 0.0193\n",
            "Epoch 38/100\n",
            "\u001b[1m63/63\u001b[0m \u001b[32m━━━━━━━━━━━━━━━━━━━━\u001b[0m\u001b[37m\u001b[0m \u001b[1m0s\u001b[0m 2ms/step - loss: 0.0253\n",
            "Epoch 39/100\n",
            "\u001b[1m63/63\u001b[0m \u001b[32m━━━━━━━━━━━━━━━━━━━━\u001b[0m\u001b[37m\u001b[0m \u001b[1m0s\u001b[0m 2ms/step - loss: 0.0193\n",
            "Epoch 40/100\n",
            "\u001b[1m63/63\u001b[0m \u001b[32m━━━━━━━━━━━━━━━━━━━━\u001b[0m\u001b[37m\u001b[0m \u001b[1m0s\u001b[0m 3ms/step - loss: 0.0174\n",
            "Epoch 41/100\n",
            "\u001b[1m63/63\u001b[0m \u001b[32m━━━━━━━━━━━━━━━━━━━━\u001b[0m\u001b[37m\u001b[0m \u001b[1m0s\u001b[0m 2ms/step - loss: 0.0170\n",
            "Epoch 42/100\n",
            "\u001b[1m63/63\u001b[0m \u001b[32m━━━━━━━━━━━━━━━━━━━━\u001b[0m\u001b[37m\u001b[0m \u001b[1m0s\u001b[0m 2ms/step - loss: 0.0198\n",
            "Epoch 43/100\n",
            "\u001b[1m63/63\u001b[0m \u001b[32m━━━━━━━━━━━━━━━━━━━━\u001b[0m\u001b[37m\u001b[0m \u001b[1m0s\u001b[0m 2ms/step - loss: 0.0237\n",
            "Epoch 44/100\n",
            "\u001b[1m63/63\u001b[0m \u001b[32m━━━━━━━━━━━━━━━━━━━━\u001b[0m\u001b[37m\u001b[0m \u001b[1m0s\u001b[0m 2ms/step - loss: 0.0190\n",
            "Epoch 45/100\n",
            "\u001b[1m63/63\u001b[0m \u001b[32m━━━━━━━━━━━━━━━━━━━━\u001b[0m\u001b[37m\u001b[0m \u001b[1m0s\u001b[0m 2ms/step - loss: 0.0141\n",
            "Epoch 46/100\n",
            "\u001b[1m63/63\u001b[0m \u001b[32m━━━━━━━━━━━━━━━━━━━━\u001b[0m\u001b[37m\u001b[0m \u001b[1m0s\u001b[0m 2ms/step - loss: 0.0190\n",
            "Epoch 47/100\n",
            "\u001b[1m63/63\u001b[0m \u001b[32m━━━━━━━━━━━━━━━━━━━━\u001b[0m\u001b[37m\u001b[0m \u001b[1m0s\u001b[0m 2ms/step - loss: 0.0144\n",
            "Epoch 48/100\n",
            "\u001b[1m63/63\u001b[0m \u001b[32m━━━━━━━━━━━━━━━━━━━━\u001b[0m\u001b[37m\u001b[0m \u001b[1m0s\u001b[0m 2ms/step - loss: 0.0190\n",
            "Epoch 49/100\n",
            "\u001b[1m63/63\u001b[0m \u001b[32m━━━━━━━━━━━━━━━━━━━━\u001b[0m\u001b[37m\u001b[0m \u001b[1m0s\u001b[0m 2ms/step - loss: 0.0189\n",
            "Epoch 50/100\n",
            "\u001b[1m63/63\u001b[0m \u001b[32m━━━━━━━━━━━━━━━━━━━━\u001b[0m\u001b[37m\u001b[0m \u001b[1m0s\u001b[0m 2ms/step - loss: 0.0166\n",
            "Epoch 51/100\n",
            "\u001b[1m63/63\u001b[0m \u001b[32m━━━━━━━━━━━━━━━━━━━━\u001b[0m\u001b[37m\u001b[0m \u001b[1m0s\u001b[0m 2ms/step - loss: 0.0222\n",
            "Epoch 52/100\n",
            "\u001b[1m63/63\u001b[0m \u001b[32m━━━━━━━━━━━━━━━━━━━━\u001b[0m\u001b[37m\u001b[0m \u001b[1m0s\u001b[0m 2ms/step - loss: 0.0168\n",
            "Epoch 53/100\n",
            "\u001b[1m63/63\u001b[0m \u001b[32m━━━━━━━━━━━━━━━━━━━━\u001b[0m\u001b[37m\u001b[0m \u001b[1m0s\u001b[0m 2ms/step - loss: 0.0142\n",
            "Epoch 54/100\n",
            "\u001b[1m63/63\u001b[0m \u001b[32m━━━━━━━━━━━━━━━━━━━━\u001b[0m\u001b[37m\u001b[0m \u001b[1m0s\u001b[0m 2ms/step - loss: 0.0142\n",
            "Epoch 55/100\n",
            "\u001b[1m63/63\u001b[0m \u001b[32m━━━━━━━━━━━━━━━━━━━━\u001b[0m\u001b[37m\u001b[0m \u001b[1m0s\u001b[0m 2ms/step - loss: 0.0176\n",
            "Epoch 56/100\n",
            "\u001b[1m63/63\u001b[0m \u001b[32m━━━━━━━━━━━━━━━━━━━━\u001b[0m\u001b[37m\u001b[0m \u001b[1m0s\u001b[0m 2ms/step - loss: 0.0245\n",
            "Epoch 57/100\n",
            "\u001b[1m63/63\u001b[0m \u001b[32m━━━━━━━━━━━━━━━━━━━━\u001b[0m\u001b[37m\u001b[0m \u001b[1m0s\u001b[0m 2ms/step - loss: 0.0190\n",
            "Epoch 58/100\n",
            "\u001b[1m63/63\u001b[0m \u001b[32m━━━━━━━━━━━━━━━━━━━━\u001b[0m\u001b[37m\u001b[0m \u001b[1m0s\u001b[0m 3ms/step - loss: 0.0154\n",
            "Epoch 59/100\n",
            "\u001b[1m63/63\u001b[0m \u001b[32m━━━━━━━━━━━━━━━━━━━━\u001b[0m\u001b[37m\u001b[0m \u001b[1m0s\u001b[0m 2ms/step - loss: 0.0224\n",
            "Epoch 60/100\n",
            "\u001b[1m63/63\u001b[0m \u001b[32m━━━━━━━━━━━━━━━━━━━━\u001b[0m\u001b[37m\u001b[0m \u001b[1m0s\u001b[0m 2ms/step - loss: 0.0156\n",
            "Epoch 61/100\n",
            "\u001b[1m63/63\u001b[0m \u001b[32m━━━━━━━━━━━━━━━━━━━━\u001b[0m\u001b[37m\u001b[0m \u001b[1m0s\u001b[0m 2ms/step - loss: 0.0174\n",
            "Epoch 62/100\n",
            "\u001b[1m63/63\u001b[0m \u001b[32m━━━━━━━━━━━━━━━━━━━━\u001b[0m\u001b[37m\u001b[0m \u001b[1m0s\u001b[0m 2ms/step - loss: 0.0162\n",
            "Epoch 63/100\n",
            "\u001b[1m63/63\u001b[0m \u001b[32m━━━━━━━━━━━━━━━━━━━━\u001b[0m\u001b[37m\u001b[0m \u001b[1m0s\u001b[0m 2ms/step - loss: 0.0138\n",
            "Epoch 64/100\n",
            "\u001b[1m63/63\u001b[0m \u001b[32m━━━━━━━━━━━━━━━━━━━━\u001b[0m\u001b[37m\u001b[0m \u001b[1m0s\u001b[0m 2ms/step - loss: 0.0184\n",
            "Epoch 65/100\n",
            "\u001b[1m63/63\u001b[0m \u001b[32m━━━━━━━━━━━━━━━━━━━━\u001b[0m\u001b[37m\u001b[0m \u001b[1m0s\u001b[0m 3ms/step - loss: 0.0145\n",
            "Epoch 66/100\n",
            "\u001b[1m63/63\u001b[0m \u001b[32m━━━━━━━━━━━━━━━━━━━━\u001b[0m\u001b[37m\u001b[0m \u001b[1m0s\u001b[0m 2ms/step - loss: 0.0203\n",
            "Epoch 67/100\n",
            "\u001b[1m63/63\u001b[0m \u001b[32m━━━━━━━━━━━━━━━━━━━━\u001b[0m\u001b[37m\u001b[0m \u001b[1m0s\u001b[0m 3ms/step - loss: 0.0159\n",
            "Epoch 68/100\n",
            "\u001b[1m63/63\u001b[0m \u001b[32m━━━━━━━━━━━━━━━━━━━━\u001b[0m\u001b[37m\u001b[0m \u001b[1m0s\u001b[0m 2ms/step - loss: 0.0137\n",
            "Epoch 69/100\n",
            "\u001b[1m63/63\u001b[0m \u001b[32m━━━━━━━━━━━━━━━━━━━━\u001b[0m\u001b[37m\u001b[0m \u001b[1m0s\u001b[0m 2ms/step - loss: 0.0136\n",
            "Epoch 70/100\n",
            "\u001b[1m63/63\u001b[0m \u001b[32m━━━━━━━━━━━━━━━━━━━━\u001b[0m\u001b[37m\u001b[0m \u001b[1m0s\u001b[0m 2ms/step - loss: 0.0159\n",
            "Epoch 71/100\n",
            "\u001b[1m63/63\u001b[0m \u001b[32m━━━━━━━━━━━━━━━━━━━━\u001b[0m\u001b[37m\u001b[0m \u001b[1m0s\u001b[0m 2ms/step - loss: 0.0176\n",
            "Epoch 72/100\n",
            "\u001b[1m63/63\u001b[0m \u001b[32m━━━━━━━━━━━━━━━━━━━━\u001b[0m\u001b[37m\u001b[0m \u001b[1m0s\u001b[0m 2ms/step - loss: 0.0201\n",
            "Epoch 73/100\n",
            "\u001b[1m63/63\u001b[0m \u001b[32m━━━━━━━━━━━━━━━━━━━━\u001b[0m\u001b[37m\u001b[0m \u001b[1m0s\u001b[0m 2ms/step - loss: 0.0191\n",
            "Epoch 74/100\n",
            "\u001b[1m63/63\u001b[0m \u001b[32m━━━━━━━━━━━━━━━━━━━━\u001b[0m\u001b[37m\u001b[0m \u001b[1m0s\u001b[0m 5ms/step - loss: 0.0185\n",
            "Epoch 75/100\n",
            "\u001b[1m63/63\u001b[0m \u001b[32m━━━━━━━━━━━━━━━━━━━━\u001b[0m\u001b[37m\u001b[0m \u001b[1m1s\u001b[0m 4ms/step - loss: 0.0152\n",
            "Epoch 76/100\n",
            "\u001b[1m63/63\u001b[0m \u001b[32m━━━━━━━━━━━━━━━━━━━━\u001b[0m\u001b[37m\u001b[0m \u001b[1m0s\u001b[0m 4ms/step - loss: 0.0224\n",
            "Epoch 77/100\n",
            "\u001b[1m63/63\u001b[0m \u001b[32m━━━━━━━━━━━━━━━━━━━━\u001b[0m\u001b[37m\u001b[0m \u001b[1m1s\u001b[0m 3ms/step - loss: 0.0176\n",
            "Epoch 78/100\n",
            "\u001b[1m63/63\u001b[0m \u001b[32m━━━━━━━━━━━━━━━━━━━━\u001b[0m\u001b[37m\u001b[0m \u001b[1m0s\u001b[0m 3ms/step - loss: 0.0195\n",
            "Epoch 79/100\n",
            "\u001b[1m63/63\u001b[0m \u001b[32m━━━━━━━━━━━━━━━━━━━━\u001b[0m\u001b[37m\u001b[0m \u001b[1m0s\u001b[0m 3ms/step - loss: 0.0675\n",
            "Epoch 80/100\n",
            "\u001b[1m63/63\u001b[0m \u001b[32m━━━━━━━━━━━━━━━━━━━━\u001b[0m\u001b[37m\u001b[0m \u001b[1m0s\u001b[0m 2ms/step - loss: 0.0291\n",
            "Epoch 81/100\n",
            "\u001b[1m63/63\u001b[0m \u001b[32m━━━━━━━━━━━━━━━━━━━━\u001b[0m\u001b[37m\u001b[0m \u001b[1m0s\u001b[0m 2ms/step - loss: 0.0189\n",
            "Epoch 82/100\n",
            "\u001b[1m63/63\u001b[0m \u001b[32m━━━━━━━━━━━━━━━━━━━━\u001b[0m\u001b[37m\u001b[0m \u001b[1m0s\u001b[0m 2ms/step - loss: 0.0185\n",
            "Epoch 83/100\n",
            "\u001b[1m63/63\u001b[0m \u001b[32m━━━━━━━━━━━━━━━━━━━━\u001b[0m\u001b[37m\u001b[0m \u001b[1m0s\u001b[0m 3ms/step - loss: 0.0203\n",
            "Epoch 84/100\n",
            "\u001b[1m63/63\u001b[0m \u001b[32m━━━━━━━━━━━━━━━━━━━━\u001b[0m\u001b[37m\u001b[0m \u001b[1m0s\u001b[0m 2ms/step - loss: 0.0199\n",
            "Epoch 85/100\n",
            "\u001b[1m63/63\u001b[0m \u001b[32m━━━━━━━━━━━━━━━━━━━━\u001b[0m\u001b[37m\u001b[0m \u001b[1m0s\u001b[0m 2ms/step - loss: 0.0185\n",
            "Epoch 86/100\n",
            "\u001b[1m63/63\u001b[0m \u001b[32m━━━━━━━━━━━━━━━━━━━━\u001b[0m\u001b[37m\u001b[0m \u001b[1m0s\u001b[0m 2ms/step - loss: 0.0142\n",
            "Epoch 87/100\n",
            "\u001b[1m63/63\u001b[0m \u001b[32m━━━━━━━━━━━━━━━━━━━━\u001b[0m\u001b[37m\u001b[0m \u001b[1m0s\u001b[0m 2ms/step - loss: 0.0156\n",
            "Epoch 88/100\n",
            "\u001b[1m63/63\u001b[0m \u001b[32m━━━━━━━━━━━━━━━━━━━━\u001b[0m\u001b[37m\u001b[0m \u001b[1m0s\u001b[0m 2ms/step - loss: 0.0213\n",
            "Epoch 89/100\n",
            "\u001b[1m63/63\u001b[0m \u001b[32m━━━━━━━━━━━━━━━━━━━━\u001b[0m\u001b[37m\u001b[0m \u001b[1m0s\u001b[0m 2ms/step - loss: 0.0166\n",
            "Epoch 90/100\n",
            "\u001b[1m63/63\u001b[0m \u001b[32m━━━━━━━━━━━━━━━━━━━━\u001b[0m\u001b[37m\u001b[0m \u001b[1m0s\u001b[0m 2ms/step - loss: 0.0132\n",
            "Epoch 91/100\n",
            "\u001b[1m63/63\u001b[0m \u001b[32m━━━━━━━━━━━━━━━━━━━━\u001b[0m\u001b[37m\u001b[0m \u001b[1m0s\u001b[0m 2ms/step - loss: 0.0148\n",
            "Epoch 92/100\n",
            "\u001b[1m63/63\u001b[0m \u001b[32m━━━━━━━━━━━━━━━━━━━━\u001b[0m\u001b[37m\u001b[0m \u001b[1m0s\u001b[0m 2ms/step - loss: 0.0161\n",
            "Epoch 93/100\n",
            "\u001b[1m63/63\u001b[0m \u001b[32m━━━━━━━━━━━━━━━━━━━━\u001b[0m\u001b[37m\u001b[0m \u001b[1m0s\u001b[0m 2ms/step - loss: 0.0174\n",
            "Epoch 94/100\n",
            "\u001b[1m63/63\u001b[0m \u001b[32m━━━━━━━━━━━━━━━━━━━━\u001b[0m\u001b[37m\u001b[0m \u001b[1m0s\u001b[0m 2ms/step - loss: 0.0175\n",
            "Epoch 95/100\n",
            "\u001b[1m63/63\u001b[0m \u001b[32m━━━━━━━━━━━━━━━━━━━━\u001b[0m\u001b[37m\u001b[0m \u001b[1m0s\u001b[0m 3ms/step - loss: 0.0189\n",
            "Epoch 96/100\n",
            "\u001b[1m63/63\u001b[0m \u001b[32m━━━━━━━━━━━━━━━━━━━━\u001b[0m\u001b[37m\u001b[0m \u001b[1m0s\u001b[0m 2ms/step - loss: 0.0141\n",
            "Epoch 97/100\n",
            "\u001b[1m63/63\u001b[0m \u001b[32m━━━━━━━━━━━━━━━━━━━━\u001b[0m\u001b[37m\u001b[0m \u001b[1m0s\u001b[0m 2ms/step - loss: 0.0137\n",
            "Epoch 98/100\n",
            "\u001b[1m63/63\u001b[0m \u001b[32m━━━━━━━━━━━━━━━━━━━━\u001b[0m\u001b[37m\u001b[0m \u001b[1m0s\u001b[0m 2ms/step - loss: 0.0155\n",
            "Epoch 99/100\n",
            "\u001b[1m63/63\u001b[0m \u001b[32m━━━━━━━━━━━━━━━━━━━━\u001b[0m\u001b[37m\u001b[0m \u001b[1m0s\u001b[0m 2ms/step - loss: 0.0198\n",
            "Epoch 100/100\n",
            "\u001b[1m63/63\u001b[0m \u001b[32m━━━━━━━━━━━━━━━━━━━━\u001b[0m\u001b[37m\u001b[0m \u001b[1m0s\u001b[0m 2ms/step - loss: 0.0149\n"
          ]
        },
        {
          "data": {
            "text/plain": [
              "<keras.src.callbacks.history.History at 0x7a4e7886a450>"
            ]
          },
          "execution_count": 49,
          "metadata": {},
          "output_type": "execute_result"
        }
      ],
      "source": [
        "model.compile(loss=tf.keras.losses.SparseCategoricalCrossentropy(from_logits=True),\n",
        "              optimizer=tf.keras.optimizers.Adam(0.01))\n",
        "model.fit(x_train, y_train, epochs=100)"
      ]
    },
    {
      "cell_type": "markdown",
      "metadata": {
        "id": "ArRThllZMAeU"
      },
      "source": [
        "# prediction"
      ]
    },
    {
      "cell_type": "code",
      "execution_count": 50,
      "metadata": {
        "colab": {
          "base_uri": "https://localhost:8080/"
        },
        "id": "idr-WqLjL_3_",
        "outputId": "b1ea7133-24b7-4d4a-f811-96086dfcd57d"
      },
      "outputs": [
        {
          "name": "stdout",
          "output_type": "stream",
          "text": [
            "\u001b[1m63/63\u001b[0m \u001b[32m━━━━━━━━━━━━━━━━━━━━\u001b[0m\u001b[37m\u001b[0m \u001b[1m0s\u001b[0m 2ms/step\n"
          ]
        }
      ],
      "source": [
        "prediction = model.predict(x_train)"
      ]
    },
    {
      "cell_type": "code",
      "execution_count": 51,
      "metadata": {
        "colab": {
          "base_uri": "https://localhost:8080/",
          "height": 121
        },
        "id": "eGfJ5qRjNHJl",
        "outputId": "dcbb7323-8e95-47e4-8a2b-3012dde7907c"
      },
      "outputs": [
        {
          "data": {
            "text/plain": [
              "array([[5.6048250e-17, 3.7152602e-18, 6.6760642e-12, 9.9999994e-01],\n",
              "       [3.0102119e-34, 1.0609075e-36, 2.5053960e-20, 9.9999994e-01],\n",
              "       [1.3722359e-13, 1.3012876e-13, 2.4649456e-12, 9.9999994e-01],\n",
              "       [3.2849758e-07, 2.2525671e-03, 9.9772447e-01, 2.2610879e-05],\n",
              "       [7.1887594e-23, 1.0137365e-19, 9.9999994e-01, 5.1323342e-12]],\n",
              "      dtype=float32)"
            ]
          },
          "metadata": {},
          "output_type": "display_data"
        }
      ],
      "source": [
        "display(prediction[:5]) # first 5 predictions"
      ]
    },
    {
      "cell_type": "code",
      "execution_count": 52,
      "metadata": {
        "colab": {
          "base_uri": "https://localhost:8080/",
          "height": 34
        },
        "id": "9kJU525qMLlK",
        "outputId": "75ed85ed-5207-4008-b562-60c6947b7d2f"
      },
      "outputs": [
        {
          "data": {
            "text/plain": [
              "array([3, 3, 3, 2, 2])"
            ]
          },
          "metadata": {},
          "output_type": "display_data"
        }
      ],
      "source": [
        "display(np.argmax(prediction[:5], axis=1)) # first 5 predictions"
      ]
    },
    {
      "cell_type": "code",
      "execution_count": 53,
      "metadata": {
        "id": "zMow7UIUNU5x"
      },
      "outputs": [],
      "source": [
        "predicted_classes = np.argmax(prediction, axis=1) #  predictions"
      ]
    },
    {
      "cell_type": "code",
      "execution_count": 54,
      "metadata": {
        "id": "qnRBBus7NY2d"
      },
      "outputs": [],
      "source": [
        "pred_count = np.bincount(predicted_classes)"
      ]
    },
    {
      "cell_type": "code",
      "execution_count": 55,
      "metadata": {
        "colab": {
          "base_uri": "https://localhost:8080/"
        },
        "id": "T-aMrQF2ObsL",
        "outputId": "6aab6dff-e819-4080-a242-5e988d642786"
      },
      "outputs": [
        {
          "name": "stdout",
          "output_type": "stream",
          "text": [
            "class: 0\tpredicted class count: 503\n",
            "class: 1\tpredicted class count: 494\n",
            "class: 2\tpredicted class count: 503\n",
            "class: 3\tpredicted class count: 500\n"
          ]
        }
      ],
      "source": [
        "for i, count in enumerate(pred_count):\n",
        "  print(f'class: {i}\\tpredicted class count: {count}')"
      ]
    }
  ],
  "metadata": {
    "colab": {
      "provenance": []
    },
    "kernelspec": {
      "display_name": "Python 3",
      "name": "python3"
    },
    "language_info": {
      "name": "python"
    }
  },
  "nbformat": 4,
  "nbformat_minor": 0
}
