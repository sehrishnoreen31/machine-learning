{
 "cells": [
  {
   "cell_type": "code",
   "execution_count": 11,
   "id": "67c5a086",
   "metadata": {},
   "outputs": [],
   "source": [
    "import pandas as pd\n",
    "import requests\n",
    "import time"
   ]
  },
  {
   "cell_type": "markdown",
   "id": "e756ed77",
   "metadata": {},
   "source": [
    "## Trefle"
   ]
  },
  {
   "cell_type": "code",
   "execution_count": null,
   "id": "4373244f",
   "metadata": {},
   "outputs": [
    {
     "name": "stdout",
     "output_type": "stream",
     "text": [
      "1 done\n",
      "2 done\n",
      "3 done\n",
      "4 done\n",
      "5 done\n",
      "6 done\n",
      "7 done\n",
      "8 done\n",
      "9 done\n",
      "10 done\n"
     ]
    }
   ],
   "source": [
    "plant_df = pd.DataFrame()\n",
    "for page in range(10):\n",
    "    url = \"https://trefle.io/api/v1/plants?page={}&token=key\".format(page)\n",
    "    response = requests.get(url)\n",
    "    data = response.json()\n",
    "    if \"data\" in data:\n",
    "        temp_df = pd.DataFrame(data[\"data\"])\n",
    "        plant_df = pd.concat([plant_df, temp_df])\n",
    "    time.sleep(1) # avoid api hit limit\n",
    "    print(page+1, 'done')"
   ]
  },
  {
   "cell_type": "code",
   "execution_count": 38,
   "id": "55778821",
   "metadata": {},
   "outputs": [
    {
     "data": {
      "text/plain": [
       "(180, 16)"
      ]
     },
     "execution_count": 38,
     "metadata": {},
     "output_type": "execute_result"
    }
   ],
   "source": [
    "plant_df.shape"
   ]
  },
  {
   "cell_type": "code",
   "execution_count": 39,
   "id": "7f2919d9",
   "metadata": {},
   "outputs": [
    {
     "data": {
      "text/html": [
       "<div>\n",
       "<style scoped>\n",
       "    .dataframe tbody tr th:only-of-type {\n",
       "        vertical-align: middle;\n",
       "    }\n",
       "\n",
       "    .dataframe tbody tr th {\n",
       "        vertical-align: top;\n",
       "    }\n",
       "\n",
       "    .dataframe thead th {\n",
       "        text-align: right;\n",
       "    }\n",
       "</style>\n",
       "<table border=\"1\" class=\"dataframe\">\n",
       "  <thead>\n",
       "    <tr style=\"text-align: right;\">\n",
       "      <th></th>\n",
       "      <th>id</th>\n",
       "      <th>common_name</th>\n",
       "      <th>slug</th>\n",
       "      <th>scientific_name</th>\n",
       "      <th>year</th>\n",
       "      <th>bibliography</th>\n",
       "      <th>author</th>\n",
       "      <th>status</th>\n",
       "      <th>rank</th>\n",
       "      <th>family_common_name</th>\n",
       "      <th>genus_id</th>\n",
       "      <th>image_url</th>\n",
       "      <th>synonyms</th>\n",
       "      <th>genus</th>\n",
       "      <th>family</th>\n",
       "      <th>links</th>\n",
       "    </tr>\n",
       "  </thead>\n",
       "  <tbody>\n",
       "    <tr>\n",
       "      <th>0</th>\n",
       "      <td>77116</td>\n",
       "      <td>Evergreen oak</td>\n",
       "      <td>quercus-rotundifolia</td>\n",
       "      <td>Quercus rotundifolia</td>\n",
       "      <td>1785.0</td>\n",
       "      <td>Encycl. 1: 723 (1785)</td>\n",
       "      <td>Lam.</td>\n",
       "      <td>accepted</td>\n",
       "      <td>species</td>\n",
       "      <td>None</td>\n",
       "      <td>3519</td>\n",
       "      <td>https://d2seqvvyy3b8p2.cloudfront.net/40ab8e7c...</td>\n",
       "      <td>[Quercus ilex var. oleoides, Quercus ilex subv...</td>\n",
       "      <td>Quercus</td>\n",
       "      <td>Fagaceae</td>\n",
       "      <td>{'self': '/api/v1/species/quercus-rotundifolia...</td>\n",
       "    </tr>\n",
       "    <tr>\n",
       "      <th>1</th>\n",
       "      <td>109482</td>\n",
       "      <td>Common nettle</td>\n",
       "      <td>urtica-dioica</td>\n",
       "      <td>Urtica dioica</td>\n",
       "      <td>1753.0</td>\n",
       "      <td>Sp. Pl.: 984 (1753)</td>\n",
       "      <td>L.</td>\n",
       "      <td>accepted</td>\n",
       "      <td>species</td>\n",
       "      <td>None</td>\n",
       "      <td>5550</td>\n",
       "      <td>https://bs.plantnet.org/image/o/9db58cbb3538a6...</td>\n",
       "      <td>[Urtica dioica var. vulgaris, Urtica dioica va...</td>\n",
       "      <td>Urtica</td>\n",
       "      <td>Urticaceae</td>\n",
       "      <td>{'self': '/api/v1/species/urtica-dioica', 'pla...</td>\n",
       "    </tr>\n",
       "  </tbody>\n",
       "</table>\n",
       "</div>"
      ],
      "text/plain": [
       "       id    common_name                  slug       scientific_name    year  \\\n",
       "0   77116  Evergreen oak  quercus-rotundifolia  Quercus rotundifolia  1785.0   \n",
       "1  109482  Common nettle         urtica-dioica         Urtica dioica  1753.0   \n",
       "\n",
       "            bibliography author    status     rank family_common_name  \\\n",
       "0  Encycl. 1: 723 (1785)   Lam.  accepted  species               None   \n",
       "1    Sp. Pl.: 984 (1753)     L.  accepted  species               None   \n",
       "\n",
       "   genus_id                                          image_url  \\\n",
       "0      3519  https://d2seqvvyy3b8p2.cloudfront.net/40ab8e7c...   \n",
       "1      5550  https://bs.plantnet.org/image/o/9db58cbb3538a6...   \n",
       "\n",
       "                                            synonyms    genus      family  \\\n",
       "0  [Quercus ilex var. oleoides, Quercus ilex subv...  Quercus    Fagaceae   \n",
       "1  [Urtica dioica var. vulgaris, Urtica dioica va...   Urtica  Urticaceae   \n",
       "\n",
       "                                               links  \n",
       "0  {'self': '/api/v1/species/quercus-rotundifolia...  \n",
       "1  {'self': '/api/v1/species/urtica-dioica', 'pla...  "
      ]
     },
     "execution_count": 39,
     "metadata": {},
     "output_type": "execute_result"
    }
   ],
   "source": [
    "plant_df[:2]"
   ]
  },
  {
   "cell_type": "markdown",
   "id": "53b6e8d8",
   "metadata": {},
   "source": [
    "## Nasa"
   ]
  },
  {
   "cell_type": "code",
   "execution_count": null,
   "id": "8af2ac0f",
   "metadata": {},
   "outputs": [
    {
     "name": "stdout",
     "output_type": "stream",
     "text": [
      "1 done\n",
      "2 done\n",
      "3 done\n",
      "4 done\n",
      "5 done\n",
      "6 done\n",
      "7 done\n",
      "8 done\n",
      "9 done\n",
      "10 done\n"
     ]
    }
   ],
   "source": [
    "nasa_df = pd.DataFrame()\n",
    "for page in range(10):\n",
    "    url = 'https://api.nasa.gov/DONKI/CMEAnalysis?startDate=2024-09-01&endDate=2024-09-30&mostAccurateOnly=true&speed=500&halfAngle=30&catalog=ALL&api_key=key'\n",
    "    response = requests.get(url)\n",
    "    data = response.json()\n",
    "    temp_df = pd.DataFrame(data)\n",
    "    nasa_df = pd.concat([nasa_df, temp_df])\n",
    "    time.sleep(1) # avoid api hit limit\n",
    "    print(page+1, 'done')"
   ]
  },
  {
   "cell_type": "code",
   "execution_count": 46,
   "id": "6ef0a945",
   "metadata": {},
   "outputs": [
    {
     "data": {
      "text/plain": [
       "(250, 22)"
      ]
     },
     "execution_count": 46,
     "metadata": {},
     "output_type": "execute_result"
    }
   ],
   "source": [
    "nasa_df.shape"
   ]
  },
  {
   "cell_type": "code",
   "execution_count": 47,
   "id": "87e0b5ce",
   "metadata": {},
   "outputs": [
    {
     "data": {
      "text/html": [
       "<div>\n",
       "<style scoped>\n",
       "    .dataframe tbody tr th:only-of-type {\n",
       "        vertical-align: middle;\n",
       "    }\n",
       "\n",
       "    .dataframe tbody tr th {\n",
       "        vertical-align: top;\n",
       "    }\n",
       "\n",
       "    .dataframe thead th {\n",
       "        text-align: right;\n",
       "    }\n",
       "</style>\n",
       "<table border=\"1\" class=\"dataframe\">\n",
       "  <thead>\n",
       "    <tr style=\"text-align: right;\">\n",
       "      <th></th>\n",
       "      <th>time21_5</th>\n",
       "      <th>latitude</th>\n",
       "      <th>longitude</th>\n",
       "      <th>halfAngle</th>\n",
       "      <th>speed</th>\n",
       "      <th>type</th>\n",
       "      <th>isMostAccurate</th>\n",
       "      <th>associatedCMEID</th>\n",
       "      <th>associatedCMEstartTime</th>\n",
       "      <th>note</th>\n",
       "      <th>...</th>\n",
       "      <th>featureCode</th>\n",
       "      <th>dataLevel</th>\n",
       "      <th>measurementTechnique</th>\n",
       "      <th>imageType</th>\n",
       "      <th>tilt</th>\n",
       "      <th>minorHalfWidth</th>\n",
       "      <th>speedMeasuredAtHeight</th>\n",
       "      <th>submissionTime</th>\n",
       "      <th>versionId</th>\n",
       "      <th>link</th>\n",
       "    </tr>\n",
       "  </thead>\n",
       "  <tbody>\n",
       "    <tr>\n",
       "      <th>0</th>\n",
       "      <td>2024-09-01T15:22Z</td>\n",
       "      <td>-59.0</td>\n",
       "      <td>-68.0</td>\n",
       "      <td>50.0</td>\n",
       "      <td>1247.0</td>\n",
       "      <td>O</td>\n",
       "      <td>True</td>\n",
       "      <td>2024-09-01T12:23:00-CME-001</td>\n",
       "      <td>2024-09-01T12:23Z</td>\n",
       "      <td>Updated StereoCAT analysis using SOHO LASCO C3...</td>\n",
       "      <td>...</td>\n",
       "      <td>LE</td>\n",
       "      <td>0</td>\n",
       "      <td>StereoCAT</td>\n",
       "      <td>running difference</td>\n",
       "      <td>None</td>\n",
       "      <td>None</td>\n",
       "      <td>NaN</td>\n",
       "      <td>2024-09-04T16:19Z</td>\n",
       "      <td>1</td>\n",
       "      <td>https://webtools.ccmc.gsfc.nasa.gov/DONKI/view...</td>\n",
       "    </tr>\n",
       "    <tr>\n",
       "      <th>1</th>\n",
       "      <td>2024-09-02T13:38Z</td>\n",
       "      <td>30.0</td>\n",
       "      <td>-57.0</td>\n",
       "      <td>32.0</td>\n",
       "      <td>623.0</td>\n",
       "      <td>C</td>\n",
       "      <td>True</td>\n",
       "      <td>2024-09-02T06:36:00-CME-001</td>\n",
       "      <td>2024-09-02T06:36Z</td>\n",
       "      <td>Measurement taken using source location seen i...</td>\n",
       "      <td>...</td>\n",
       "      <td>LE</td>\n",
       "      <td>1</td>\n",
       "      <td>SWPC_CAT</td>\n",
       "      <td>running difference</td>\n",
       "      <td>None</td>\n",
       "      <td>None</td>\n",
       "      <td>22.0</td>\n",
       "      <td>2024-09-02T16:37Z</td>\n",
       "      <td>1</td>\n",
       "      <td>https://webtools.ccmc.gsfc.nasa.gov/DONKI/view...</td>\n",
       "    </tr>\n",
       "  </tbody>\n",
       "</table>\n",
       "<p>2 rows × 22 columns</p>\n",
       "</div>"
      ],
      "text/plain": [
       "            time21_5  latitude  longitude  halfAngle   speed type  \\\n",
       "0  2024-09-01T15:22Z     -59.0      -68.0       50.0  1247.0    O   \n",
       "1  2024-09-02T13:38Z      30.0      -57.0       32.0   623.0    C   \n",
       "\n",
       "   isMostAccurate              associatedCMEID associatedCMEstartTime  \\\n",
       "0            True  2024-09-01T12:23:00-CME-001      2024-09-01T12:23Z   \n",
       "1            True  2024-09-02T06:36:00-CME-001      2024-09-02T06:36Z   \n",
       "\n",
       "                                                note  ... featureCode  \\\n",
       "0  Updated StereoCAT analysis using SOHO LASCO C3...  ...          LE   \n",
       "1  Measurement taken using source location seen i...  ...          LE   \n",
       "\n",
       "  dataLevel measurementTechnique           imageType  tilt minorHalfWidth  \\\n",
       "0         0            StereoCAT  running difference  None           None   \n",
       "1         1             SWPC_CAT  running difference  None           None   \n",
       "\n",
       "  speedMeasuredAtHeight     submissionTime  versionId  \\\n",
       "0                   NaN  2024-09-04T16:19Z          1   \n",
       "1                  22.0  2024-09-02T16:37Z          1   \n",
       "\n",
       "                                                link  \n",
       "0  https://webtools.ccmc.gsfc.nasa.gov/DONKI/view...  \n",
       "1  https://webtools.ccmc.gsfc.nasa.gov/DONKI/view...  \n",
       "\n",
       "[2 rows x 22 columns]"
      ]
     },
     "execution_count": 47,
     "metadata": {},
     "output_type": "execute_result"
    }
   ],
   "source": [
    "nasa_df[:2]"
   ]
  }
 ],
 "metadata": {
  "kernelspec": {
   "display_name": ".mlenv",
   "language": "python",
   "name": "python3"
  },
  "language_info": {
   "codemirror_mode": {
    "name": "ipython",
    "version": 3
   },
   "file_extension": ".py",
   "mimetype": "text/x-python",
   "name": "python",
   "nbconvert_exporter": "python",
   "pygments_lexer": "ipython3",
   "version": "3.13.1"
  }
 },
 "nbformat": 4,
 "nbformat_minor": 5
}
