{
  "nbformat": 4,
  "nbformat_minor": 0,
  "metadata": {
    "colab": {
      "provenance": [],
      "gpuType": "T4"
    },
    "kernelspec": {
      "name": "python3",
      "display_name": "Python 3"
    },
    "language_info": {
      "name": "python"
    },
    "accelerator": "GPU"
  },
  "cells": [
    {
      "cell_type": "code",
      "execution_count": null,
      "metadata": {
        "id": "gzfCjRhmQJin"
      },
      "outputs": [],
      "source": [
        "import torch"
      ]
    },
    {
      "cell_type": "markdown",
      "source": [
        "## Creating tensors"
      ],
      "metadata": {
        "id": "oVfWCD2ZQcXq"
      }
    },
    {
      "cell_type": "code",
      "source": [
        "a = torch.rand(2,3)\n",
        "a"
      ],
      "metadata": {
        "colab": {
          "base_uri": "https://localhost:8080/"
        },
        "id": "IxoBWc4UQa_g",
        "outputId": "dd38d715-e8a5-4772-cd6e-e94daf93165d"
      },
      "execution_count": null,
      "outputs": [
        {
          "output_type": "execute_result",
          "data": {
            "text/plain": [
              "tensor([[0.0542, 0.3341, 0.5232],\n",
              "        [0.4710, 0.8696, 0.5649]])"
            ]
          },
          "metadata": {},
          "execution_count": 3
        }
      ]
    },
    {
      "cell_type": "code",
      "source": [
        "b = torch.randint(size=(2,2), low=2, high=10)\n",
        "b"
      ],
      "metadata": {
        "colab": {
          "base_uri": "https://localhost:8080/"
        },
        "id": "2Czp2hQGQm_W",
        "outputId": "2ddea8ee-3a29-4239-9240-1943fa6cd5d9"
      },
      "execution_count": null,
      "outputs": [
        {
          "output_type": "execute_result",
          "data": {
            "text/plain": [
              "tensor([[2, 7],\n",
              "        [3, 5]])"
            ]
          },
          "metadata": {},
          "execution_count": 9
        }
      ]
    },
    {
      "cell_type": "code",
      "source": [
        "# tensor of 1s\n",
        "ones = torch.ones(2,5)\n",
        "ones"
      ],
      "metadata": {
        "colab": {
          "base_uri": "https://localhost:8080/"
        },
        "id": "5LfPASsuQtSQ",
        "outputId": "82ab09fc-cca3-45d9-a9d6-c1b688a62a8e"
      },
      "execution_count": null,
      "outputs": [
        {
          "output_type": "execute_result",
          "data": {
            "text/plain": [
              "tensor([[1., 1., 1., 1., 1.],\n",
              "        [1., 1., 1., 1., 1.]])"
            ]
          },
          "metadata": {},
          "execution_count": 12
        }
      ]
    },
    {
      "cell_type": "code",
      "source": [
        "# tensor of zeros\n",
        "zeros = torch.zeros(4,4)\n",
        "zeros"
      ],
      "metadata": {
        "colab": {
          "base_uri": "https://localhost:8080/"
        },
        "id": "qz_twAgiReef",
        "outputId": "a1a0847e-9b2d-4af8-d1ec-8ebbdd87cbc9"
      },
      "execution_count": null,
      "outputs": [
        {
          "output_type": "execute_result",
          "data": {
            "text/plain": [
              "tensor([[0., 0., 0., 0.],\n",
              "        [0., 0., 0., 0.],\n",
              "        [0., 0., 0., 0.],\n",
              "        [0., 0., 0., 0.]])"
            ]
          },
          "metadata": {},
          "execution_count": 13
        }
      ]
    },
    {
      "cell_type": "code",
      "source": [
        "# seed for random , makes same values again\n",
        "torch.manual_seed(32)\n",
        "b = torch.rand(2,3)\n",
        "display(b)\n",
        "display(b)\n",
        "display(b)"
      ],
      "metadata": {
        "colab": {
          "base_uri": "https://localhost:8080/",
          "height": 121
        },
        "id": "o_E0nDwqRreN",
        "outputId": "446b28b5-1af0-472e-8933-b0c140a72935"
      },
      "execution_count": null,
      "outputs": [
        {
          "output_type": "display_data",
          "data": {
            "text/plain": [
              "tensor([[0.8757, 0.2721, 0.4141],\n",
              "        [0.7857, 0.1130, 0.5793]])"
            ]
          },
          "metadata": {}
        },
        {
          "output_type": "display_data",
          "data": {
            "text/plain": [
              "tensor([[0.8757, 0.2721, 0.4141],\n",
              "        [0.7857, 0.1130, 0.5793]])"
            ]
          },
          "metadata": {}
        },
        {
          "output_type": "display_data",
          "data": {
            "text/plain": [
              "tensor([[0.8757, 0.2721, 0.4141],\n",
              "        [0.7857, 0.1130, 0.5793]])"
            ]
          },
          "metadata": {}
        }
      ]
    },
    {
      "cell_type": "code",
      "source": [
        "# tensor with custom values\n",
        "t = torch.tensor([[3,6,3],[1,6,2]])\n",
        "t"
      ],
      "metadata": {
        "colab": {
          "base_uri": "https://localhost:8080/"
        },
        "id": "DutY0Xz3SKeP",
        "outputId": "50e90864-08d4-49ba-b45f-f49b9e721cf8"
      },
      "execution_count": null,
      "outputs": [
        {
          "output_type": "execute_result",
          "data": {
            "text/plain": [
              "tensor([[3, 6, 3],\n",
              "        [1, 6, 2]])"
            ]
          },
          "metadata": {},
          "execution_count": 5
        }
      ]
    },
    {
      "cell_type": "code",
      "source": [
        "# a tensor of values from specific range\n",
        "torch.arange(0, 100, 3)"
      ],
      "metadata": {
        "colab": {
          "base_uri": "https://localhost:8080/"
        },
        "id": "QxfZFBr-TPXI",
        "outputId": "5f7ef1f9-2bb8-4e6e-a05c-3323a94ec9be"
      },
      "execution_count": null,
      "outputs": [
        {
          "output_type": "execute_result",
          "data": {
            "text/plain": [
              "tensor([ 0,  3,  6,  9, 12, 15, 18, 21, 24, 27, 30, 33, 36, 39, 42, 45, 48, 51,\n",
              "        54, 57, 60, 63, 66, 69, 72, 75, 78, 81, 84, 87, 90, 93, 96, 99])"
            ]
          },
          "metadata": {},
          "execution_count": 7
        }
      ]
    },
    {
      "cell_type": "code",
      "source": [
        "# linear space, one-dimensional tensor containing a specified number of evenly spaced values\n",
        "torch.linspace(2, 10, 10)"
      ],
      "metadata": {
        "colab": {
          "base_uri": "https://localhost:8080/"
        },
        "id": "B2sx2JJzTfbN",
        "outputId": "1342da19-3d33-4694-8c82-2fdd24517467"
      },
      "execution_count": null,
      "outputs": [
        {
          "output_type": "execute_result",
          "data": {
            "text/plain": [
              "tensor([ 2.0000,  2.8889,  3.7778,  4.6667,  5.5556,  6.4444,  7.3333,  8.2222,\n",
              "         9.1111, 10.0000])"
            ]
          },
          "metadata": {},
          "execution_count": 9
        }
      ]
    },
    {
      "cell_type": "code",
      "source": [
        "# identity matrix\n",
        "torch.eye(3)"
      ],
      "metadata": {
        "colab": {
          "base_uri": "https://localhost:8080/"
        },
        "id": "esKa_6dFTshN",
        "outputId": "721a42aa-524e-42c3-8c69-d419a9f6fecd"
      },
      "execution_count": null,
      "outputs": [
        {
          "output_type": "execute_result",
          "data": {
            "text/plain": [
              "tensor([[1., 0., 0.],\n",
              "        [0., 1., 0.],\n",
              "        [0., 0., 1.]])"
            ]
          },
          "metadata": {},
          "execution_count": 10
        }
      ]
    },
    {
      "cell_type": "code",
      "source": [
        "# a matrix of specific num\n",
        "torch.full((3,5), 6)"
      ],
      "metadata": {
        "colab": {
          "base_uri": "https://localhost:8080/"
        },
        "id": "Br1icX7JULPz",
        "outputId": "d5221848-0dcc-4b5e-e33f-1cbc75dd53ab"
      },
      "execution_count": null,
      "outputs": [
        {
          "output_type": "execute_result",
          "data": {
            "text/plain": [
              "tensor([[6, 6, 6, 6, 6],\n",
              "        [6, 6, 6, 6, 6],\n",
              "        [6, 6, 6, 6, 6]])"
            ]
          },
          "metadata": {},
          "execution_count": 15
        }
      ]
    },
    {
      "cell_type": "markdown",
      "source": [
        "## Shapes"
      ],
      "metadata": {
        "id": "H3TThl9VUyVl"
      }
    },
    {
      "cell_type": "code",
      "source": [
        "torch.manual_seed(32)\n",
        "t = torch.rand(size=(4,4), dtype=torch.float32)\n",
        "t"
      ],
      "metadata": {
        "colab": {
          "base_uri": "https://localhost:8080/"
        },
        "id": "4Qqb-xPnUVu1",
        "outputId": "1b18f039-f8ac-42f1-e43e-c9254239638c"
      },
      "execution_count": null,
      "outputs": [
        {
          "output_type": "execute_result",
          "data": {
            "text/plain": [
              "tensor([[0.8757, 0.2721, 0.4141, 0.7857],\n",
              "        [0.1130, 0.5793, 0.6481, 0.0229],\n",
              "        [0.5874, 0.3254, 0.9485, 0.5219],\n",
              "        [0.8782, 0.7254, 0.6929, 0.0259]])"
            ]
          },
          "metadata": {},
          "execution_count": 19
        }
      ]
    },
    {
      "cell_type": "code",
      "source": [
        "t.shape"
      ],
      "metadata": {
        "colab": {
          "base_uri": "https://localhost:8080/"
        },
        "id": "-BiP48yUVG0x",
        "outputId": "df989c85-d866-41ab-f6d0-c120ca2776cd"
      },
      "execution_count": null,
      "outputs": [
        {
          "output_type": "execute_result",
          "data": {
            "text/plain": [
              "torch.Size([4, 4])"
            ]
          },
          "metadata": {},
          "execution_count": 20
        }
      ]
    },
    {
      "cell_type": "code",
      "source": [
        "# create empty tensor of same dim as t\n",
        "torch.empty_like(t)"
      ],
      "metadata": {
        "colab": {
          "base_uri": "https://localhost:8080/"
        },
        "id": "X5NNxmUrVZF_",
        "outputId": "4a0635ed-5c6b-4a70-a3d0-49d670416f33"
      },
      "execution_count": null,
      "outputs": [
        {
          "output_type": "execute_result",
          "data": {
            "text/plain": [
              "tensor([[-8.1946e-20,  4.4840e-41, -8.1946e-20,  4.4840e-41],\n",
              "        [ 0.0000e+00,  0.0000e+00,  0.0000e+00,  0.0000e+00],\n",
              "        [ 0.0000e+00,  0.0000e+00,  0.0000e+00,  0.0000e+00],\n",
              "        [ 0.0000e+00,  0.0000e+00,  0.0000e+00,  0.0000e+00]])"
            ]
          },
          "metadata": {},
          "execution_count": 21
        }
      ]
    },
    {
      "cell_type": "code",
      "source": [
        "# ones like t\n",
        "torch.ones_like(t)"
      ],
      "metadata": {
        "colab": {
          "base_uri": "https://localhost:8080/"
        },
        "id": "60wmYpf8VqlV",
        "outputId": "2c3d153f-e52a-41a8-c318-c0d4f99fb84c"
      },
      "execution_count": null,
      "outputs": [
        {
          "output_type": "execute_result",
          "data": {
            "text/plain": [
              "tensor([[1., 1., 1., 1.],\n",
              "        [1., 1., 1., 1.],\n",
              "        [1., 1., 1., 1.],\n",
              "        [1., 1., 1., 1.]])"
            ]
          },
          "metadata": {},
          "execution_count": 22
        }
      ]
    },
    {
      "cell_type": "code",
      "source": [
        "# zeros like t\n",
        "torch.zeros_like(t)"
      ],
      "metadata": {
        "colab": {
          "base_uri": "https://localhost:8080/"
        },
        "id": "E6IH9H6sVxjz",
        "outputId": "1b2a2cf9-0c12-4ded-e933-aeb899a3cbcd"
      },
      "execution_count": null,
      "outputs": [
        {
          "output_type": "execute_result",
          "data": {
            "text/plain": [
              "tensor([[0., 0., 0., 0.],\n",
              "        [0., 0., 0., 0.],\n",
              "        [0., 0., 0., 0.],\n",
              "        [0., 0., 0., 0.]])"
            ]
          },
          "metadata": {},
          "execution_count": 23
        }
      ]
    },
    {
      "cell_type": "code",
      "source": [
        "torch.rand_like(t) # only works for float type"
      ],
      "metadata": {
        "colab": {
          "base_uri": "https://localhost:8080/"
        },
        "id": "hvzZfnjTV4Kk",
        "outputId": "2f3995ac-bd00-4b52-a5f9-8840fad2b573"
      },
      "execution_count": null,
      "outputs": [
        {
          "output_type": "execute_result",
          "data": {
            "text/plain": [
              "tensor([[0.8867, 0.2971, 0.7828, 0.5105],\n",
              "        [0.8187, 0.4370, 0.1878, 0.8781],\n",
              "        [0.1925, 0.6161, 0.7849, 0.1381],\n",
              "        [0.0455, 0.7794, 0.0059, 0.1268]])"
            ]
          },
          "metadata": {},
          "execution_count": 25
        }
      ]
    },
    {
      "cell_type": "markdown",
      "source": [
        "## Data Types"
      ],
      "metadata": {
        "id": "IFC0nnY4WGj-"
      }
    },
    {
      "cell_type": "code",
      "source": [
        "torch.manual_seed(32)\n",
        "t = torch.randint(size=(2,2), low=4, high=10)\n",
        "t"
      ],
      "metadata": {
        "colab": {
          "base_uri": "https://localhost:8080/"
        },
        "id": "tHnbzTQTV99w",
        "outputId": "a62346c7-8842-4cac-ae59-c5ce1c798125"
      },
      "execution_count": null,
      "outputs": [
        {
          "output_type": "execute_result",
          "data": {
            "text/plain": [
              "tensor([[5, 9],\n",
              "        [7, 4]])"
            ]
          },
          "metadata": {},
          "execution_count": 41
        }
      ]
    },
    {
      "cell_type": "code",
      "source": [
        "t = t.to(torch.float32)\n",
        "t"
      ],
      "metadata": {
        "colab": {
          "base_uri": "https://localhost:8080/"
        },
        "id": "XhyIQIi9XUPM",
        "outputId": "4d97f683-3cdb-40f5-eb83-2ecdf5adb994"
      },
      "execution_count": null,
      "outputs": [
        {
          "output_type": "execute_result",
          "data": {
            "text/plain": [
              "tensor([[5., 9.],\n",
              "        [7., 4.]])"
            ]
          },
          "metadata": {},
          "execution_count": 43
        }
      ]
    },
    {
      "cell_type": "code",
      "source": [
        "t = t.to(torch.bool)\n",
        "t"
      ],
      "metadata": {
        "colab": {
          "base_uri": "https://localhost:8080/"
        },
        "id": "3zEmG9NTWRgg",
        "outputId": "cd0b23dc-2470-416d-f59f-7fdfc493d5e6"
      },
      "execution_count": null,
      "outputs": [
        {
          "output_type": "execute_result",
          "data": {
            "text/plain": [
              "tensor([[True, True],\n",
              "        [True, True]])"
            ]
          },
          "metadata": {},
          "execution_count": 44
        }
      ]
    },
    {
      "cell_type": "markdown",
      "source": [
        "## Maths"
      ],
      "metadata": {
        "id": "5Jx48SeJYGHo"
      }
    },
    {
      "cell_type": "markdown",
      "source": [
        "### Scalar and Matrix"
      ],
      "metadata": {
        "id": "JgFP97iCYv4y"
      }
    },
    {
      "cell_type": "code",
      "source": [
        "x = torch.randint(size=(4,4), low=3, high=35)\n",
        "x"
      ],
      "metadata": {
        "colab": {
          "base_uri": "https://localhost:8080/"
        },
        "id": "-QBWjbr2YF-N",
        "outputId": "a8ba7884-c5cd-4f76-95b4-29fa24014742"
      },
      "execution_count": null,
      "outputs": [
        {
          "output_type": "execute_result",
          "data": {
            "text/plain": [
              "tensor([[ 4,  5,  6, 27],\n",
              "        [13, 21, 13, 23],\n",
              "        [21,  7,  7, 28],\n",
              "        [ 8, 28,  9, 16]])"
            ]
          },
          "metadata": {},
          "execution_count": 47
        }
      ]
    },
    {
      "cell_type": "code",
      "source": [
        "x + 2"
      ],
      "metadata": {
        "colab": {
          "base_uri": "https://localhost:8080/"
        },
        "id": "hm6oGFAOWhXX",
        "outputId": "5f6369e9-7957-4284-fac4-7113734ffd9f"
      },
      "execution_count": null,
      "outputs": [
        {
          "output_type": "execute_result",
          "data": {
            "text/plain": [
              "tensor([[ 6,  7,  8, 29],\n",
              "        [15, 23, 15, 25],\n",
              "        [23,  9,  9, 30],\n",
              "        [10, 30, 11, 18]])"
            ]
          },
          "metadata": {},
          "execution_count": 48
        }
      ]
    },
    {
      "cell_type": "code",
      "source": [
        "x * 4"
      ],
      "metadata": {
        "colab": {
          "base_uri": "https://localhost:8080/"
        },
        "id": "mwJWE4UZYiBp",
        "outputId": "bd4797a5-0e21-4717-b992-ae2e257cb598"
      },
      "execution_count": null,
      "outputs": [
        {
          "output_type": "execute_result",
          "data": {
            "text/plain": [
              "tensor([[ 16,  20,  24, 108],\n",
              "        [ 52,  84,  52,  92],\n",
              "        [ 84,  28,  28, 112],\n",
              "        [ 32, 112,  36,  64]])"
            ]
          },
          "metadata": {},
          "execution_count": 49
        }
      ]
    },
    {
      "cell_type": "code",
      "source": [
        "x ** 2"
      ],
      "metadata": {
        "colab": {
          "base_uri": "https://localhost:8080/"
        },
        "id": "GkYQaM6XYkQQ",
        "outputId": "42ec3272-bb6e-43e0-bde2-10a9376822e0"
      },
      "execution_count": null,
      "outputs": [
        {
          "output_type": "execute_result",
          "data": {
            "text/plain": [
              "tensor([[ 16,  25,  36, 729],\n",
              "        [169, 441, 169, 529],\n",
              "        [441,  49,  49, 784],\n",
              "        [ 64, 784,  81, 256]])"
            ]
          },
          "metadata": {},
          "execution_count": 50
        }
      ]
    },
    {
      "cell_type": "code",
      "source": [
        "x / 9"
      ],
      "metadata": {
        "colab": {
          "base_uri": "https://localhost:8080/"
        },
        "id": "CUt2iwoeYmRy",
        "outputId": "92e98305-61bf-4dcc-ea21-2eb99988453b"
      },
      "execution_count": null,
      "outputs": [
        {
          "output_type": "execute_result",
          "data": {
            "text/plain": [
              "tensor([[0.4444, 0.5556, 0.6667, 3.0000],\n",
              "        [1.4444, 2.3333, 1.4444, 2.5556],\n",
              "        [2.3333, 0.7778, 0.7778, 3.1111],\n",
              "        [0.8889, 3.1111, 1.0000, 1.7778]])"
            ]
          },
          "metadata": {},
          "execution_count": 51
        }
      ]
    },
    {
      "cell_type": "code",
      "source": [
        "x % 3"
      ],
      "metadata": {
        "colab": {
          "base_uri": "https://localhost:8080/"
        },
        "id": "fxQGpuycYoic",
        "outputId": "30373c18-4726-4ffa-ddb9-e76fd72d675d"
      },
      "execution_count": null,
      "outputs": [
        {
          "output_type": "execute_result",
          "data": {
            "text/plain": [
              "tensor([[1, 2, 0, 0],\n",
              "        [1, 0, 1, 2],\n",
              "        [0, 1, 1, 1],\n",
              "        [2, 1, 0, 1]])"
            ]
          },
          "metadata": {},
          "execution_count": 52
        }
      ]
    },
    {
      "cell_type": "code",
      "source": [
        "x // 5"
      ],
      "metadata": {
        "colab": {
          "base_uri": "https://localhost:8080/"
        },
        "id": "X668BQTiYru_",
        "outputId": "73b73488-e85d-4028-ea55-7b91126cbebb"
      },
      "execution_count": null,
      "outputs": [
        {
          "output_type": "execute_result",
          "data": {
            "text/plain": [
              "tensor([[0, 1, 1, 5],\n",
              "        [2, 4, 2, 4],\n",
              "        [4, 1, 1, 5],\n",
              "        [1, 5, 1, 3]])"
            ]
          },
          "metadata": {},
          "execution_count": 53
        }
      ]
    },
    {
      "cell_type": "markdown",
      "source": [
        "### Matrix to Matrix"
      ],
      "metadata": {
        "id": "ScCXyshAY4D7"
      }
    },
    {
      "cell_type": "code",
      "source": [
        "a = torch.randint(size=(2,2), low=3, high=25)\n",
        "b = torch.randint(size=(2,2), low=3, high=25)\n",
        "display(a)\n",
        "display(b)"
      ],
      "metadata": {
        "colab": {
          "base_uri": "https://localhost:8080/",
          "height": 86
        },
        "id": "Lfg22y32Ytqm",
        "outputId": "28934e35-b164-4378-8c18-c67f52389d36"
      },
      "execution_count": null,
      "outputs": [
        {
          "output_type": "display_data",
          "data": {
            "text/plain": [
              "tensor([[13, 18],\n",
              "        [ 5, 10]])"
            ]
          },
          "metadata": {}
        },
        {
          "output_type": "display_data",
          "data": {
            "text/plain": [
              "tensor([[11,  9],\n",
              "        [15, 17]])"
            ]
          },
          "metadata": {}
        }
      ]
    },
    {
      "cell_type": "code",
      "source": [
        "a + b"
      ],
      "metadata": {
        "colab": {
          "base_uri": "https://localhost:8080/"
        },
        "id": "6ATbZa2VZJnu",
        "outputId": "7b85fedf-f173-448a-a4af-abbb0eacf29c"
      },
      "execution_count": null,
      "outputs": [
        {
          "output_type": "execute_result",
          "data": {
            "text/plain": [
              "tensor([[24, 27],\n",
              "        [20, 27]])"
            ]
          },
          "metadata": {},
          "execution_count": 57
        }
      ]
    },
    {
      "cell_type": "code",
      "source": [
        "a - b"
      ],
      "metadata": {
        "colab": {
          "base_uri": "https://localhost:8080/"
        },
        "id": "l18QBgeqZbc0",
        "outputId": "f1c635ab-2d54-45b9-a99d-2dd9939cdf69"
      },
      "execution_count": null,
      "outputs": [
        {
          "output_type": "execute_result",
          "data": {
            "text/plain": [
              "tensor([[  2,   9],\n",
              "        [-10,  -7]])"
            ]
          },
          "metadata": {},
          "execution_count": 58
        }
      ]
    },
    {
      "cell_type": "code",
      "source": [
        "a * b"
      ],
      "metadata": {
        "colab": {
          "base_uri": "https://localhost:8080/"
        },
        "id": "bCb0ZoWVZdRY",
        "outputId": "ae605c5e-010d-40bc-fc2e-1d6778e47608"
      },
      "execution_count": null,
      "outputs": [
        {
          "output_type": "execute_result",
          "data": {
            "text/plain": [
              "tensor([[143, 162],\n",
              "        [ 75, 170]])"
            ]
          },
          "metadata": {},
          "execution_count": 59
        }
      ]
    },
    {
      "cell_type": "code",
      "source": [
        "a / b"
      ],
      "metadata": {
        "colab": {
          "base_uri": "https://localhost:8080/"
        },
        "id": "fyZzbmmdZe4K",
        "outputId": "9aca1652-5063-423c-b5f0-bf732f5f5c45"
      },
      "execution_count": null,
      "outputs": [
        {
          "output_type": "execute_result",
          "data": {
            "text/plain": [
              "tensor([[1.1818, 2.0000],\n",
              "        [0.3333, 0.5882]])"
            ]
          },
          "metadata": {},
          "execution_count": 60
        }
      ]
    },
    {
      "cell_type": "code",
      "source": [
        "a % b"
      ],
      "metadata": {
        "colab": {
          "base_uri": "https://localhost:8080/"
        },
        "id": "nLxTuDbWZgLo",
        "outputId": "dfa506a7-c494-4761-f763-cd3a58f5f0fe"
      },
      "execution_count": null,
      "outputs": [
        {
          "output_type": "execute_result",
          "data": {
            "text/plain": [
              "tensor([[ 2,  0],\n",
              "        [ 5, 10]])"
            ]
          },
          "metadata": {},
          "execution_count": 61
        }
      ]
    },
    {
      "cell_type": "code",
      "source": [
        "a ** b"
      ],
      "metadata": {
        "colab": {
          "base_uri": "https://localhost:8080/"
        },
        "id": "s5Xi0jMhZhxI",
        "outputId": "9fc17c77-d79d-4a77-9c4b-49d7dfff380b"
      },
      "execution_count": null,
      "outputs": [
        {
          "output_type": "execute_result",
          "data": {
            "text/plain": [
              "tensor([[     1792160394037,       198359290368],\n",
              "        [       30517578125, 100000000000000000]])"
            ]
          },
          "metadata": {},
          "execution_count": 62
        }
      ]
    },
    {
      "cell_type": "markdown",
      "source": [
        "### Built in"
      ],
      "metadata": {
        "id": "v-Vaw_lRZoPI"
      }
    },
    {
      "cell_type": "code",
      "source": [
        "a = torch.tensor([[3,2,1], [6.4, 3.2,6]])\n",
        "a"
      ],
      "metadata": {
        "colab": {
          "base_uri": "https://localhost:8080/"
        },
        "id": "NH0ouhBdaE_g",
        "outputId": "36456036-3d3f-4e21-e95b-2b633051ad0a"
      },
      "execution_count": null,
      "outputs": [
        {
          "output_type": "execute_result",
          "data": {
            "text/plain": [
              "tensor([[3.0000, 2.0000, 1.0000],\n",
              "        [6.4000, 3.2000, 6.0000]])"
            ]
          },
          "metadata": {},
          "execution_count": 72
        }
      ]
    },
    {
      "cell_type": "code",
      "source": [
        "# absolute values\n",
        "a.abs()"
      ],
      "metadata": {
        "colab": {
          "base_uri": "https://localhost:8080/"
        },
        "id": "tM5oi8m0Zj5Z",
        "outputId": "de26e933-8974-45de-b558-fdfd75d7d7bc"
      },
      "execution_count": null,
      "outputs": [
        {
          "output_type": "execute_result",
          "data": {
            "text/plain": [
              "tensor([[3.0000, 2.0000, 1.0000],\n",
              "        [6.4000, 3.2000, 6.0000]])"
            ]
          },
          "metadata": {},
          "execution_count": 73
        }
      ]
    },
    {
      "cell_type": "code",
      "source": [
        "# neg values\n",
        "a.neg()"
      ],
      "metadata": {
        "colab": {
          "base_uri": "https://localhost:8080/"
        },
        "id": "3lqogWTiZtso",
        "outputId": "586aa25e-c106-42b6-b8a0-3c3307828079"
      },
      "execution_count": null,
      "outputs": [
        {
          "output_type": "execute_result",
          "data": {
            "text/plain": [
              "tensor([[-3.0000, -2.0000, -1.0000],\n",
              "        [-6.4000, -3.2000, -6.0000]])"
            ]
          },
          "metadata": {},
          "execution_count": 74
        }
      ]
    },
    {
      "cell_type": "code",
      "source": [
        "# round elements\n",
        "a.round()"
      ],
      "metadata": {
        "colab": {
          "base_uri": "https://localhost:8080/"
        },
        "id": "Bluz-7HQZ5Fm",
        "outputId": "8508fff3-9c34-4531-8515-8d21f623976b"
      },
      "execution_count": null,
      "outputs": [
        {
          "output_type": "execute_result",
          "data": {
            "text/plain": [
              "tensor([[3., 2., 1.],\n",
              "        [6., 3., 6.]])"
            ]
          },
          "metadata": {},
          "execution_count": 76
        }
      ]
    },
    {
      "cell_type": "code",
      "source": [
        "a.ceil()"
      ],
      "metadata": {
        "colab": {
          "base_uri": "https://localhost:8080/"
        },
        "id": "QJ3Rd2k2aBFT",
        "outputId": "878e08ee-fbd1-415c-8937-7465b359092d"
      },
      "execution_count": null,
      "outputs": [
        {
          "output_type": "execute_result",
          "data": {
            "text/plain": [
              "tensor([[3., 2., 1.],\n",
              "        [7., 4., 6.]])"
            ]
          },
          "metadata": {},
          "execution_count": 77
        }
      ]
    },
    {
      "cell_type": "code",
      "source": [
        "a.floor()"
      ],
      "metadata": {
        "colab": {
          "base_uri": "https://localhost:8080/"
        },
        "id": "9sQjMhTtai3y",
        "outputId": "dbae72a8-91ce-47de-f1ec-bd6b3b9f5712"
      },
      "execution_count": null,
      "outputs": [
        {
          "output_type": "execute_result",
          "data": {
            "text/plain": [
              "tensor([[3., 2., 1.],\n",
              "        [6., 3., 6.]])"
            ]
          },
          "metadata": {},
          "execution_count": 78
        }
      ]
    },
    {
      "cell_type": "code",
      "source": [
        "a.clamp(min=2, max=5)"
      ],
      "metadata": {
        "colab": {
          "base_uri": "https://localhost:8080/"
        },
        "id": "2o7l7LCnarIe",
        "outputId": "b2c252c1-462c-4f5a-94c1-d297835e6ace"
      },
      "execution_count": null,
      "outputs": [
        {
          "output_type": "execute_result",
          "data": {
            "text/plain": [
              "tensor([[3.0000, 2.0000, 2.0000],\n",
              "        [5.0000, 3.2000, 5.0000]])"
            ]
          },
          "metadata": {},
          "execution_count": 81
        }
      ]
    }
  ]
}